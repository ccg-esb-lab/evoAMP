{
 "cells": [
  {
   "cell_type": "markdown",
   "metadata": {
    "id": "tLvgOSA9CvwQ"
   },
   "source": [
    "# EvoAMP"
   ]
  },
  {
   "cell_type": "code",
   "execution_count": 1,
   "metadata": {
    "id": "E-DFzlnvCvwT"
   },
   "outputs": [],
   "source": [
    "import sys, os, random, time, shutil\n",
    "from scipy import stats\n",
    "from numpy import cumsum\n",
    "import seaborn as sns\n",
    "import pandas as pandas\n",
    "from matplotlib import pyplot as plt"
   ]
  },
  {
   "cell_type": "code",
   "execution_count": 2,
   "metadata": {
    "id": "cLQYxGvS6zYh"
   },
   "outputs": [],
   "source": [
    "\n",
    "sys.path.insert(0, 'lib/')\n",
    "\n",
    "from DataLoader import *\n",
    "from DataAnalysis import *\n",
    "from DataPlotter import *\n",
    "\n",
    "ODmin=0.05\n",
    "nMIC=.005\n",
    "dilution=0.02\n"
   ]
  },
  {
   "cell_type": "markdown",
   "metadata": {
    "id": "_zU5EmNUCvwT"
   },
   "source": [
    "## Load Data"
   ]
  },
  {
   "cell_type": "markdown",
   "metadata": {
    "id": "-uPe_rEACvwT"
   },
   "source": [
    "### Mild selection - Phase 1 (Ampicillin ramp)"
   ]
  },
  {
   "cell_type": "code",
   "execution_count": 3,
   "metadata": {
    "id": "YmBNuecACvwU",
    "outputId": "30064d8f-eaba-4a9f-a348-7f1fd413c42f",
    "scrolled": false
   },
   "outputs": [
    {
     "name": "stdout",
     "output_type": "stream",
     "text": [
      "../../data/20170311_SMA_Phase1_MS/\n",
      "../../data/20170311_SMA_Phase1_MS/data/170311_DIA1-AMP_2.txt\n",
      "../../data/20170311_SMA_Phase1_MS/data/170312_DIA2-AMP_LS.txt\n",
      "../../data/20170311_SMA_Phase1_MS/data/170313_DIA3-AMP_LS.txt\n",
      "../../data/20170311_SMA_Phase1_MS/data/170314_DIA4-AMP_LS.txt\n",
      "../../data/20170311_SMA_Phase1_MS/data/170315_DIA5-AMP_LS.txt\n",
      "../../data/20170311_SMA_Phase1_MS/data/170316_DIA6-AMP_LS.txt\n",
      "../../data/20170311_SMA_Phase1_MS/data/170317_DIA7-AMP_LS.txt\n",
      "../../data/20170311_SMA_Phase1_MS/data/170318_DIA8-AMP_LS.txt\n",
      "../../data/20170311_SMA_Phase1_MS/data/170319_DIA9-AMP_LS.txt\n",
      "../../data/20170311_SMA_Phase1_MS/data/170320_DIA10-AMP_LS.txt\n",
      "../../data/20170311_SMA_Phase1_MS/data/170321_DIA11-AMP_LS.txt\n",
      "../../data/20170311_SMA_Phase1_MS/data/170322_DIA12-AMP_LS.txt\n",
      "../../data/20170311_SMA_Phase1_MS/data/170325_DIA13-AMP_LS.txt\n",
      "../../data/20170311_SMA_Phase1_MS/data/170326_DIA14-AMP_LS.txt\n",
      "../../data/20170311_SMA_Phase1_MS/data/170327_DIA15-AMP_LS.txt\n",
      "../../data/20170311_SMA_Phase1_MS/data/170328_DIA16-AMP_LS.txt\n",
      "../../data/20170311_SMA_Phase1_MS/data/170329_DIA17-AMP_LS.txt\n",
      "../../data/20170311_SMA_Phase1_MS/data/170330_DIA18-AMP_LS.txt\n",
      "../../data/20170311_SMA_Phase1_MS/data/170331_DIA19-AMP_LS.txt\n",
      "../../data/20170311_SMA_Phase1_MS/data/170419_DIA20-AMP_LS.txt\n",
      "../../data/20170311_SMA_Phase1_MS/data/170420_DIA21-AMP_LS.txt\n",
      "../../data/20170311_SMA_Phase1_MS/data/170421_DIA22-AMP_LS.txt\n",
      "../../data/20170311_SMA_Phase1_MS/data/170426_DIA23-AMP_LS.txt\n",
      "../../data/20170311_SMA_Phase1_MS/data/170427_DIA24-AMP_LS.txt\n"
     ]
    }
   ],
   "source": [
    "params1_MS=dict()\n",
    "params1_MS['verbose']=False\n",
    "\n",
    "#PHASE 1 - MILD SELECTION\n",
    "\n",
    "dataPATH=''\n",
    "\n",
    "params1_MS['experimentPath']='../../data/20170311_SMA_Phase1_MS/'\n",
    "params1_MS['fileLayoutName']='layouts/EvoAMP_layout_1plate.txt'\n",
    "params1_MS['fileDictName']='layouts/EvoAMP_key_dict.txt'\n",
    "params1_MS['fileInoculationName']='layouts/EvoAMP_inoculation_layout.txt'\n",
    "params1_MS['fileDataNames']=[\n",
    "                        'data/170311_DIA1-AMP_2.txt',\n",
    "                        'data/170312_DIA2-AMP_LS.txt',\n",
    "                        'data/170313_DIA3-AMP_LS.txt',\n",
    "                        'data/170314_DIA4-AMP_LS.txt',\n",
    "                        'data/170315_DIA5-AMP_LS.txt',\n",
    "                        'data/170316_DIA6-AMP_LS.txt',\n",
    "                        'data/170317_DIA7-AMP_LS.txt',\n",
    "                        'data/170318_DIA8-AMP_LS.txt',\n",
    "                        'data/170319_DIA9-AMP_LS.txt',\n",
    "                        'data/170320_DIA10-AMP_LS.txt',\n",
    "                        'data/170321_DIA11-AMP_LS.txt',\n",
    "                        'data/170322_DIA12-AMP_LS.txt',\n",
    "                        'data/170325_DIA13-AMP_LS.txt',\n",
    "                        'data/170326_DIA14-AMP_LS.txt',\n",
    "                        'data/170327_DIA15-AMP_LS.txt',\n",
    "                        'data/170328_DIA16-AMP_LS.txt',\n",
    "                        'data/170329_DIA17-AMP_LS.txt',\n",
    "                        'data/170330_DIA18-AMP_LS.txt',\n",
    "                        'data/170331_DIA19-AMP_LS.txt',\n",
    "                        'data/170419_DIA20-AMP_LS.txt',\n",
    "                        'data/170420_DIA21-AMP_LS.txt',\n",
    "                        'data/170421_DIA22-AMP_LS.txt',\n",
    "                        'data/170426_DIA23-AMP_LS.txt',\n",
    "                        'data/170427_DIA24-AMP_LS.txt'\n",
    "                        ]\n",
    "\n",
    "params1_MS['ignoreWells']=[str() for c in 'c' * len(params1_MS['fileDataNames'])]\n",
    "params1_MS['ignoreWells'][2]='D1,C12'\n",
    "params1_MS['ignoreWells'][10]='B7,B8,D7,D8,E11,F7,F8,H7,H8'\n",
    "params1_MS['ignoreWells'][11]='H6'\n",
    "params1_MS['ignoreWells'][17]='B1'\n",
    "params1_MS['ignoreWells'][18]='B3'\n",
    "\n",
    "\n",
    "params1_MS['conv2ml']=1\n",
    "\n",
    "DATA1_MS=loadDataN(params1_MS, dilution)\n"
   ]
  },
  {
   "cell_type": "markdown",
   "metadata": {
    "id": "vOUSXp9MCvwV"
   },
   "source": [
    "## Strong selection - Phase 1 (Ampicillin ramp)"
   ]
  },
  {
   "cell_type": "code",
   "execution_count": 4,
   "metadata": {
    "id": "tkqw35RsCvwV",
    "outputId": "d6d5ab50-301b-4ca7-d2c9-916fb386e51d"
   },
   "outputs": [
    {
     "name": "stdout",
     "output_type": "stream",
     "text": [
      "../../data/20170421_SMA_Phase1_SS/\n",
      "../../data/20170421_SMA_Phase1_SS/data/170311_DIA1-AMP_2.txt\n",
      "../../data/20170421_SMA_Phase1_SS/data/170421_DIA2-AMP_SS.txt\n",
      "../../data/20170421_SMA_Phase1_SS/data/170426_DIA3-AMP_SS.txt\n",
      "../../data/20170421_SMA_Phase1_SS/data/170427_DIA4-AMP_SS.txt\n",
      "../../data/20170421_SMA_Phase1_SS/data/170428_DIA5-AMP_SS.txt\n",
      "../../data/20170421_SMA_Phase1_SS/data/170531_DIA6-AMP_SS.txt\n",
      "../../data/20170421_SMA_Phase1_SS/data/170601_DIA7-AMP_SS.txt\n",
      "../../data/20170421_SMA_Phase1_SS/data/170602_DIA8-AMP_SS.txt\n"
     ]
    }
   ],
   "source": [
    "params1_SS=dict()\n",
    "params1_SS['verbose']=False\n",
    "\n",
    "#PHASE 1 - MILD SELECTION\n",
    "params1_SS['experimentPath']='../../data/20170421_SMA_Phase1_SS/'\n",
    "params1_SS['fileLayoutName']='layouts/EvoAMP_layout_1plate.txt'\n",
    "params1_SS['fileDictName']='layouts/EvoAMP_key_dict.txt'\n",
    "params1_SS['fileInoculationName']='layouts/EvoAMP_inoculation_layout.txt'\n",
    "params1_SS['fileDataNames']=[\n",
    "                       'data/170311_DIA1-AMP_2.txt',\n",
    "                        'data/170421_DIA2-AMP_SS.txt',\n",
    "                        'data/170426_DIA3-AMP_SS.txt',\n",
    "                        'data/170427_DIA4-AMP_SS.txt',\n",
    "                        'data/170428_DIA5-AMP_SS.txt',\n",
    "                        'data/170531_DIA6-AMP_SS.txt',\n",
    "                        'data/170601_DIA7-AMP_SS.txt',\n",
    "                        'data/170602_DIA8-AMP_SS.txt',\n",
    "                        ]\n",
    "\n",
    "params1_SS['ignoreWells']=[str() for c in 'c' * len(params1_SS['fileDataNames'])]\n",
    "params1_SS['ignoreWells'][2]='B9'\n",
    "params1_SS['conv2ml']=1\n",
    "\n",
    "DATA1_SS=loadDataN(params1_SS, dilution)\n",
    "\n",
    "    "
   ]
  },
  {
   "cell_type": "markdown",
   "metadata": {
    "id": "J1iW0Bq4CvwV"
   },
   "source": [
    "## Mild Selection - Phase 2"
   ]
  },
  {
   "cell_type": "code",
   "execution_count": 5,
   "metadata": {
    "id": "s3hN4hv3CvwW",
    "outputId": "d0a42538-6ef0-47eb-a312-39239f4d6f46"
   },
   "outputs": [
    {
     "name": "stdout",
     "output_type": "stream",
     "text": [
      "../../data/20180302_SMA_Phase2_MS/\n",
      "../../data/20180302_SMA_Phase2_MS/data/20180302_M1_MS.txt\n",
      "../../data/20180302_SMA_Phase2_MS/data/20180308_M2_MS.txt\n",
      "../../data/20180302_SMA_Phase2_MS/data/20180316_M3_MS.txt\n",
      "../../data/20180302_SMA_Phase2_MS/data/20180326_M4_MS.txt\n",
      "../../data/20180302_SMA_Phase2_MS/data/20180413_M5_MS.txt\n",
      "../../data/20180302_SMA_Phase2_MS/data/20180620_M6_MS.txt\n",
      "../../data/20180302_SMA_Phase2_MS/data/20180622_M7_MS.txt\n"
     ]
    }
   ],
   "source": [
    "params2_MS=dict()\n",
    "params2_MS['verbose']=False\n",
    "\n",
    "#PHASE 1 - MILD SELECTION\n",
    "params2_MS['experimentPath']='../../data/20180302_SMA_Phase2_MS/'\n",
    "params2_MS['fileLayoutName']='layouts/EvoAMP_layout.txt'\n",
    "params2_MS['fileDictName']='layouts/EvoAMP_key_dict.txt'\n",
    "params2_MS['fileInoculationName']='layouts/EvoAMP_inoculation_layout.txt'\n",
    "params2_MS['fileDataNames']=[\n",
    "                        'data/20180302_M1_MS.txt',\n",
    "                        'data/20180308_M2_MS.txt',\n",
    "                        'data/20180316_M3_MS.txt',\n",
    "                        'data/20180326_M4_MS.txt',\n",
    "                        'data/20180413_M5_MS.txt',\n",
    "                        'data/20180620_M6_MS.txt',\n",
    "                        'data/20180622_M7_MS.txt'\n",
    "                        ]\n",
    "\n",
    "params2_MS['ignoreWells']=[str() for c in 'c' * len(params2_MS['fileDataNames'])]\n",
    "params2_MS['conv2ml']=1\n",
    "\n",
    "DATA2_MS=loadDataN(params2_MS, dilution)\n"
   ]
  },
  {
   "cell_type": "markdown",
   "metadata": {
    "id": "M_cJy0o3CvwW"
   },
   "source": [
    "## Strong Selection - Phase 2"
   ]
  },
  {
   "cell_type": "code",
   "execution_count": 6,
   "metadata": {
    "id": "_lU0fi9FCvwW",
    "outputId": "a6f3e570-6252-405a-d331-43339573cd2f"
   },
   "outputs": [
    {
     "name": "stdout",
     "output_type": "stream",
     "text": [
      "../../data/20180302_SMA_Phase2_SS/\n",
      "../../data/20180302_SMA_Phase2_SS/data/20180302_M1_SS.txt\n",
      "../../data/20180302_SMA_Phase2_SS/data/20180308_M2_SS.txt\n",
      "../../data/20180302_SMA_Phase2_SS/data/20180316_M3_SS.txt\n",
      "../../data/20180302_SMA_Phase2_SS/data/20180326_M4_SS.txt\n",
      "../../data/20180302_SMA_Phase2_SS/data/20180413_M5_SS.txt\n",
      "../../data/20180302_SMA_Phase2_SS/data/20180620_M6_SS.txt\n",
      "../../data/20180302_SMA_Phase2_SS/data/20180622_M7_SS.txt\n"
     ]
    }
   ],
   "source": [
    "params2_SS=dict()\n",
    "params2_SS['verbose']=False\n",
    "\n",
    "#PHASE 1 - MILD SELECTION\n",
    "params2_SS['experimentPath']='../../data/20180302_SMA_Phase2_SS/'\n",
    "params2_SS['fileLayoutName']='layouts/EvoAMP_layout.txt'\n",
    "params2_SS['fileDictName']='layouts/EvoAMP_key_dict.txt'\n",
    "params2_SS['fileInoculationName']='layouts/EvoAMP_inoculation_layout.txt'\n",
    "params2_SS['fileDataNames']=[\n",
    "                        'data/20180302_M1_SS.txt',\n",
    "                        'data/20180308_M2_SS.txt',\n",
    "                        'data/20180316_M3_SS.txt',\n",
    "                        'data/20180326_M4_SS.txt',\n",
    "                        'data/20180413_M5_SS.txt',\n",
    "                        'data/20180620_M6_SS.txt',\n",
    "                        'data/20180622_M7_SS.txt'\n",
    "                        ]\n",
    "\n",
    "params2_SS['ignoreWells']=[str() for c in 'c' * len(params2_MS['fileDataNames'])]\n",
    "params2_SS['conv2ml']=1\n",
    "\n",
    "DATA2_SS=loadDataN(params2_SS, dilution)\n"
   ]
  },
  {
   "cell_type": "markdown",
   "metadata": {
    "id": "brzR_SUuCvwX"
   },
   "source": [
    "## Mild Selection - Phase 3 "
   ]
  },
  {
   "cell_type": "code",
   "execution_count": 7,
   "metadata": {
    "id": "KZyF_RFmCvwX",
    "outputId": "30838eda-0b11-436c-895a-542830dc5146"
   },
   "outputs": [
    {
     "name": "stdout",
     "output_type": "stream",
     "text": [
      "../../data/20190403_SMA_Phase3_MS/\n",
      "../../data/20190403_SMA_Phase3_MS/data/20190403_ReEvol_MS_day1.txt\n",
      "../../data/20190403_SMA_Phase3_MS/data/20190405_ReEvol_MS_day2.txt\n",
      "../../data/20190403_SMA_Phase3_MS/data/20190409_ReEvol_MS_day3.txt\n",
      "../../data/20190403_SMA_Phase3_MS/data/20190410_ReEvol_MS_day4.txt\n",
      "../../data/20190403_SMA_Phase3_MS/data/20190411_ReEvol_MS_day5.txt\n",
      "../../data/20190403_SMA_Phase3_MS/data/20190412_ReEvol_MS_day6.txt\n",
      "../../data/20190403_SMA_Phase3_MS/data/20190417_ReEvol_MS_day7.txt\n",
      "../../data/20190403_SMA_Phase3_MS/data/20190418_ReEvol_MS_day8.txt\n",
      "../../data/20190403_SMA_Phase3_MS/data/20190501_ReEvol_MS_day9.txt\n",
      "../../data/20190403_SMA_Phase3_MS/data/20190502_ReEvol_MS_day10.txt\n",
      "../../data/20190403_SMA_Phase3_MS/data/20190507_ReEvol_MS_day11.txt\n",
      "../../data/20190403_SMA_Phase3_MS/data/20190510_ReEvol_MS_day12.txt\n",
      "../../data/20190403_SMA_Phase3_MS/data/20190511_ReEvol_MS_day13.txt\n"
     ]
    }
   ],
   "source": [
    "params3_MS=dict()\n",
    "params3_MS['verbose']=False\n",
    "\n",
    "#PHASE 1 - MILD SELECTION\n",
    "params3_MS['experimentPath']='../../data/20190403_SMA_Phase3_MS/'\n",
    "params3_MS['fileLayoutName']='layouts/EvoAMP_layout_1plate.txt'\n",
    "params3_MS['fileDictName']='layouts/EvoAMP_key_dict.txt'\n",
    "params3_MS['fileInoculationName']='layouts/EvoAMP_inoculation_layout.txt'\n",
    "params3_MS['fileDataNames']=[\n",
    "                        'data/20190403_ReEvol_MS_day1.txt',\n",
    "                        'data/20190405_ReEvol_MS_day2.txt',\n",
    "                        'data/20190409_ReEvol_MS_day3.txt',\n",
    "                        'data/20190410_ReEvol_MS_day4.txt',\n",
    "                        'data/20190411_ReEvol_MS_day5.txt',\n",
    "                        'data/20190412_ReEvol_MS_day6.txt',\n",
    "                        'data/20190417_ReEvol_MS_day7.txt',\n",
    "                        'data/20190418_ReEvol_MS_day8.txt',\n",
    "                        'data/20190501_ReEvol_MS_day9.txt',\n",
    "                        'data/20190502_ReEvol_MS_day10.txt',\n",
    "                        'data/20190507_ReEvol_MS_day11.txt',\n",
    "                        'data/20190510_ReEvol_MS_day12.txt',\n",
    "                        'data/20190511_ReEvol_MS_day13.txt',\n",
    "                        ]\n",
    "\n",
    "params3_MS['ignoreWells']=[str() for c in 'c' * len(params3_MS['fileDataNames'])]\n",
    "params3_MS['conv2ml']=1\n",
    "\n",
    "DATA3_MS=loadDataN(params3_MS, dilution)\n",
    "\n",
    "    "
   ]
  },
  {
   "cell_type": "markdown",
   "metadata": {
    "collapsed": true,
    "id": "O6cRPkZfCvwX"
   },
   "source": [
    "## Strong selection - Phase 3"
   ]
  },
  {
   "cell_type": "code",
   "execution_count": 8,
   "metadata": {
    "id": "yIgForApCvwX",
    "outputId": "9723c4ea-a868-4a9f-c251-c0f4cb70d9e3"
   },
   "outputs": [
    {
     "name": "stdout",
     "output_type": "stream",
     "text": [
      "../../data/20190403_SMA_Phase3_SS/\n",
      "../../data/20190403_SMA_Phase3_SS/data/20190403_ReEvol_SS_day1.txt\n",
      "../../data/20190403_SMA_Phase3_SS/data/20190405_ReEvol_SS_day2.txt\n",
      "../../data/20190403_SMA_Phase3_SS/data/20190409_ReEvol_SS_day3.txt\n",
      "../../data/20190403_SMA_Phase3_SS/data/20190410_ReEvol_SS_day4.txt\n",
      "../../data/20190403_SMA_Phase3_SS/data/20190411_ReEvol_SS_day5.txt\n",
      "../../data/20190403_SMA_Phase3_SS/data/20190412_ReEvol_SS_day6.txt\n",
      "../../data/20190403_SMA_Phase3_SS/data/20190417_ReEvol_SS_day7.txt\n",
      "../../data/20190403_SMA_Phase3_SS/data/20190418_ReEvol_SS_day8.txt\n",
      "../../data/20190403_SMA_Phase3_SS/data/20190501_ReEvol_SS_day9.txt\n",
      "../../data/20190403_SMA_Phase3_SS/data/20190502_ReEvol_SS_day10.txt\n",
      "../../data/20190403_SMA_Phase3_SS/data/20190507_ReEvol_SS_day11.txt\n",
      "../../data/20190403_SMA_Phase3_SS/data/20190510_ReEvol_SS_day12.txt\n"
     ]
    }
   ],
   "source": [
    "params3_SS=dict()\n",
    "params3_SS['verbose']=False\n",
    "\n",
    "#PHASE 1 - MILD SELECTION\n",
    "params3_SS['experimentPath']='../../data/20190403_SMA_Phase3_SS/'\n",
    "params3_SS['fileLayoutName']='layouts/EvoAMP_layout_1plate.txt'\n",
    "params3_SS['fileDictName']='layouts/EvoAMP_key_dict.txt'\n",
    "params3_SS['fileInoculationName']='layouts/EvoAMP_inoculation_layout.txt'\n",
    "params3_SS['fileDataNames']=[\n",
    "                        'data/20190403_ReEvol_SS_day1.txt',\n",
    "                        'data/20190405_ReEvol_SS_day2.txt',\n",
    "                        'data/20190409_ReEvol_SS_day3.txt',\n",
    "                        'data/20190410_ReEvol_SS_day4.txt',\n",
    "                        'data/20190411_ReEvol_SS_day5.txt',\n",
    "                        'data/20190412_ReEvol_SS_day6.txt',\n",
    "                        'data/20190417_ReEvol_SS_day7.txt',\n",
    "                        'data/20190418_ReEvol_SS_day8.txt',\n",
    "                        'data/20190501_ReEvol_SS_day9.txt',\n",
    "                        'data/20190502_ReEvol_SS_day10.txt',\n",
    "                        'data/20190507_ReEvol_SS_day11.txt',\n",
    "                        'data/20190510_ReEvol_SS_day12.txt'\n",
    "                        ]\n",
    "\n",
    "params3_SS['ignoreWells']=[str() for c in 'c' * len(params3_SS['fileDataNames'])]\n",
    "params3_SS['conv2ml']=1\n",
    "\n",
    "DATA3_SS=loadDataN(params3_SS, dilution)\n",
    "\n",
    "    "
   ]
  },
  {
   "cell_type": "markdown",
   "metadata": {
    "id": "aCAI1POvCvwb"
   },
   "source": [
    "# Plot Figures"
   ]
  },
  {
   "cell_type": "markdown",
   "metadata": {
    "id": "zTbdw8PbCvwb"
   },
   "source": [
    "### Mild Selection"
   ]
  },
  {
   "cell_type": "code",
   "execution_count": 9,
   "metadata": {
    "id": "MNKHCkURCvwb",
    "outputId": "5464c1e6-4b64-4758-c018-061ac86c5365",
    "scrolled": false
   },
   "outputs": [
    {
     "name": "stdout",
     "output_type": "stream",
     "text": [
      "\n",
      "Rep 0 (IC50=0.01):\n",
      "   t_adapt=36.0350 \n",
      "   delta_MIC=0.0072 \n",
      "   rateAdapt=0.0002 \n",
      "\n",
      "Rep 1 (IC50=0.018):\n",
      "   t_adapt=47.6934 \n",
      "   delta_MIC=0.0210 \n",
      "   rateAdapt=0.0004 \n",
      "\n",
      "Rep 2 (IC50=0.018):\n",
      "   t_adapt=74.9825 \n",
      "   delta_MIC=0.0210 \n",
      "   rateAdapt=0.0003 \n",
      "\n",
      "Rep 3 (IC50=0.013):\n",
      "   t_adapt=48.2531 \n",
      "   delta_MIC=0.0101 \n",
      "   rateAdapt=0.0002 \n",
      "\n",
      "MS (Phase 1): Mean rateAdapt= 0.00028237405982398914  s.e.= 4.815685592648161e-05\n",
      "Generations elapsed before a ten-fold gain in resistance:\n",
      "144.70, 76.99, 133.89, 69.57\n",
      "Mean=106.28814913189298 s.e.=16.665725668546415\n"
     ]
    }
   ],
   "source": [
    "rateAdapt1_MS=getGenEvoRateAdapt(DATA1_MS, params1_MS, 'B', ODmin, nMIC)\n",
    "print('\\nMS (Phase 1): Mean rateAdapt=',np.mean(rateAdapt1_MS),' s.e.=',np.std(rateAdapt1_MS)/np.sqrt(len(rateAdapt1_MS)))\n",
    "\n",
    "genAdapt1_MS=getGenTenFold(DATA1_MS, params1_MS, 'B', ODmin, nMIC)\n",
    "print('Generations elapsed before a ten-fold gain in resistance:')\n",
    "print(', '.join(f'{q:.2f}' for q in genAdapt1_MS))\n",
    "\n",
    "print('Mean=%s s.e.=%s'%(np.mean(genAdapt1_MS),np.std(genAdapt1_MS)/np.sqrt(len(rateAdapt1_MS))))"
   ]
  },
  {
   "cell_type": "code",
   "execution_count": 10,
   "metadata": {
    "id": "SzXeCv9CCvwb",
    "outputId": "0201208b-2306-4820-9d7f-7f239e248327",
    "scrolled": false
   },
   "outputs": [
    {
     "data": {
      "image/png": "[encoded data removed]",
      "text/plain": [
       "<Figure size 1152x345.6 with 4 Axes>"
      ]
     },
     "metadata": {
      "needs_background": "light"
     },
     "output_type": "display_data"
    },
    {
     "data": {
      "image/png": "[encoded data removed]",
      "text/plain": [
       "<Figure size 432x288 with 1 Axes>"
      ]
     },
     "metadata": {
      "needs_background": "light"
     },
     "output_type": "display_data"
    }
   ],
   "source": [
    "\n",
    "#plotTimeDoseResponse(DATA1_MS,params1_MS,'B',ODmin, 'Phase1_MildSelection');\n",
    "plotGenEvoMICs(DATA1_MS, params1_MS,'B',ODmin,'Phase1_MildSelection');\n",
    "repMICs_phase1_MS, meanMICs_phase1_MS=plotGenEvoMICReps(DATA1_MS, params1_MS,'B',ODmin,'Phase1_MildSelection'); \n"
   ]
  },
  {
   "cell_type": "code",
   "execution_count": 11,
   "metadata": {
    "id": "NM2mJU-aCvwb",
    "outputId": "094b0c7c-8825-48df-e825-af5e2330b6de"
   },
   "outputs": [
    {
     "data": {
      "image/png": "[encoded data removed]",
      "text/plain": [
       "<Figure size 432x288 with 1 Axes>"
      ]
     },
     "metadata": {
      "needs_background": "light"
     },
     "output_type": "display_data"
    }
   ],
   "source": [
    "repMICs_phase2_MS, meanMICs_phase2_MS=plotGenEvoMICReps(DATA2_MS, params2_MS,'B',ODmin, 'Phase2_MildSelection', nMIC); \n"
   ]
  },
  {
   "cell_type": "code",
   "execution_count": 12,
   "metadata": {
    "id": "PPzXMLA_Cvwc",
    "outputId": "4e7336dd-77c6-4908-92f4-9eab0449247f"
   },
   "outputs": [
    {
     "name": "stdout",
     "output_type": "stream",
     "text": [
      "MS phase 2 (day 1): [5.555555555555556, 10.0, 10.0, 7.222222222222222] \n",
      "\t mean= 8.194444444444445  s.e.= 0.9496384952206487\n",
      "MS phase 2 (day 8): [1.8800000000000001, 2.44, 4.0, 3.02] \n",
      "\t mean= 2.835  s.e.= 0.3920698279643564\n"
     ]
    }
   ],
   "source": [
    "\n",
    "MIC1_MS=[repMICs_phase1_MS[0][-1], repMICs_phase1_MS[1][-1], repMICs_phase1_MS[2][-1], repMICs_phase1_MS[3][-1]]\n",
    "MIC2_MS=[repMICs_phase2_MS[0][-1], repMICs_phase2_MS[1][-1], repMICs_phase2_MS[2][-1], repMICs_phase2_MS[3][-1]]\n",
    "\n",
    "print('MS phase 2 (day 1):',MIC1_MS,'\\n\\t mean=',np.mean(MIC1_MS),' s.e.=',np.std(MIC1_MS)/np.sqrt(4))\n",
    "print('MS phase 2 (day 8):',MIC2_MS,'\\n\\t mean=',np.mean(MIC2_MS),' s.e.=',np.std(MIC2_MS)/np.sqrt(4))\n",
    "\n",
    "    "
   ]
  },
  {
   "cell_type": "code",
   "execution_count": 13,
   "metadata": {
    "id": "HVo9ixU0Cvwc",
    "outputId": "30b0810b-7741-4f04-c0fd-5a7ef4d12bd6"
   },
   "outputs": [
    {
     "data": {
      "image/png": "[encoded data removed]",
      "text/plain": [
       "<Figure size 1152x345.6 with 4 Axes>"
      ]
     },
     "metadata": {
      "needs_background": "light"
     },
     "output_type": "display_data"
    },
    {
     "data": {
      "image/png": "[encoded data removed]",
      "text/plain": [
       "<Figure size 432x288 with 1 Axes>"
      ]
     },
     "metadata": {
      "needs_background": "light"
     },
     "output_type": "display_data"
    }
   ],
   "source": [
    "\n",
    "plotGenEvoMICs(DATA3_MS, params3_MS,'B',ODmin,'Phase3_MildSelection');\n",
    "repMICs_phase3_MS, meanMICs_phase3_MS=plotGenEvoMICReps(DATA3_MS, params3_MS,'B',ODmin,'Phase3_MildSelection'); \n",
    "\n"
   ]
  },
  {
   "cell_type": "code",
   "execution_count": 14,
   "metadata": {
    "id": "U8MTqTVbCvwc",
    "outputId": "691b1712-b52d-4d65-fc97-ad59ae2dff73"
   },
   "outputs": [
    {
     "name": "stdout",
     "output_type": "stream",
     "text": [
      "\n",
      "Rep 0 (IC50=0.018):\n",
      "   t_adapt=20.5706 \n",
      "   delta_MIC=0.0150 \n",
      "   rateAdapt=0.0007 \n",
      "\n",
      "Rep 1 (IC50=0.0275):\n",
      "   t_adapt=20.4161 \n",
      "   delta_MIC=0.0280 \n",
      "   rateAdapt=0.0014 \n",
      "\n",
      "Rep 2 (IC50=0.018):\n",
      "   t_adapt=27.4574 \n",
      "   delta_MIC=0.0150 \n",
      "   rateAdapt=0.0005 \n",
      "\n",
      "Rep 3 (IC50=0.047):\n",
      "   t_adapt=57.8673 \n",
      "   delta_MIC=0.0670 \n",
      "   rateAdapt=0.0012 \n",
      "\n",
      "MS (Phase 3): Mean rateAdapt= 0.0009511970158979665  s.e.= 0.00016442108012070645\n",
      "Generations elapsed before a ten-fold gain in resistance=[72.96977566828855, 22.06023951415348, 74.19877179478482, 30.444508783969184]\n",
      "Mean=49.918323940299004 s.e.=11.927415686715705\n"
     ]
    }
   ],
   "source": [
    "rateAdapt3_MS=getGenEvoRateAdapt(DATA3_MS, params3_MS, 'B', ODmin, nMIC)\n",
    "print('\\nMS (Phase 3): Mean rateAdapt=',np.mean(rateAdapt3_MS),' s.e.=',np.std(rateAdapt3_MS)/np.sqrt(len(rateAdapt3_MS)))\n",
    "\n",
    "genAdapt3_MS=getGenTenFold(DATA3_MS, params1_MS, 'B', ODmin, nMIC)\n",
    "print('Generations elapsed before a ten-fold gain in resistance=%s'%(genAdapt3_MS))\n",
    "\n",
    "print('Mean=%s s.e.=%s'%(np.mean(genAdapt3_MS),np.std(genAdapt3_MS)/np.sqrt(len(rateAdapt3_MS))))\n"
   ]
  },
  {
   "cell_type": "markdown",
   "metadata": {
    "id": "sIb14lrFCvwc"
   },
   "source": [
    "### Strong Selection "
   ]
  },
  {
   "cell_type": "code",
   "execution_count": 15,
   "metadata": {
    "id": "1fu7shlHCvwc",
    "outputId": "fb7fe735-cc10-427e-85f5-056e6b67c718"
   },
   "outputs": [
    {
     "data": {
      "image/png": "[encoded data removed]",
      "text/plain": [
       "<Figure size 1152x345.6 with 4 Axes>"
      ]
     },
     "metadata": {
      "needs_background": "light"
     },
     "output_type": "display_data"
    },
    {
     "data": {
      "image/png": "[encoded data removed]",
      "text/plain": [
       "<Figure size 432x288 with 1 Axes>"
      ]
     },
     "metadata": {
      "needs_background": "light"
     },
     "output_type": "display_data"
    }
   ],
   "source": [
    "\n",
    "plotGenEvoMICs(DATA1_SS, params1_SS,'B',ODmin,'Phase1_StrongSelection');\n",
    "repMICs_phase1_SS, meanMICs_phase1_SS=plotGenEvoMICReps(DATA1_SS, params1_SS,'B',ODmin,'Phase1_StrongSelection'); "
   ]
  },
  {
   "cell_type": "code",
   "execution_count": 16,
   "metadata": {
    "id": "TzmP0K2yCvwd",
    "outputId": "0daab1fc-f5de-4ac2-dffc-f91e29ceaeeb"
   },
   "outputs": [
    {
     "name": "stdout",
     "output_type": "stream",
     "text": [
      "\n",
      "Rep 0 (IC50=0.0165):\n",
      "   t_adapt=24.9687 \n",
      "   delta_MIC=0.0150 \n",
      "   rateAdapt=0.0006 \n",
      "\n",
      "Rep 1 (IC50=0.018):\n",
      "   t_adapt=27.7182 \n",
      "   delta_MIC=0.0150 \n",
      "   rateAdapt=0.0005 \n",
      "\n",
      "Rep 2 (IC50=0.018):\n",
      "   t_adapt=17.2921 \n",
      "   delta_MIC=0.0210 \n",
      "   rateAdapt=0.0012 \n",
      "\n",
      "Rep 3 (IC50=0.018):\n",
      "   t_adapt=28.8519 \n",
      "   delta_MIC=0.0150 \n",
      "   rateAdapt=0.0005 \n",
      "\n",
      "SS (Phase 1): Mean rateAdapt= 0.0007190594804710702  s.e.= 0.00014376614609657004\n",
      "Generations elapsed before a ten-fold gain in resistance=[43.60675060898267, 40.999789128535994, 33.13070510366571, 45.5930069750373]\n",
      "Mean=40.83256295405542 s.e.=2.3678117978776028\n"
     ]
    }
   ],
   "source": [
    "rateAdapt1_SS=getGenEvoRateAdapt(DATA1_SS, params1_SS, 'B', ODmin, nMIC)\n",
    "print('\\nSS (Phase 1): Mean rateAdapt=',np.mean(rateAdapt1_SS),' s.e.=',np.std(rateAdapt1_SS)/np.sqrt(len(rateAdapt1_SS)))\n",
    "\n",
    "genAdapt1_SS=getGenTenFold(DATA1_SS, params1_SS, 'B', ODmin, nMIC)\n",
    "print('Generations elapsed before a ten-fold gain in resistance=%s'%(genAdapt1_SS))\n",
    "\n",
    "print('Mean=%s s.e.=%s'%(np.mean(genAdapt1_SS),np.std(genAdapt1_SS)/np.sqrt(len(rateAdapt1_SS))))"
   ]
  },
  {
   "cell_type": "code",
   "execution_count": null,
   "metadata": {
    "id": "eorq_JplCvwd",
    "outputId": "610ca15f-8e48-49af-b009-488460aa9acd"
   },
   "outputs": [
    {
     "data": {
      "image/png": "[encoded data removed]",
      "text/plain": [
       "<Figure size 1152x345.6 with 4 Axes>"
      ]
     },
     "metadata": {
      "needs_background": "light"
     },
     "output_type": "display_data"
    }
   ],
   "source": [
    "\n",
    "plotGenEvoMICs_dev(DATA2_SS, params2_SS,'B',ODmin,'Phase2_StrongSelection');\n",
    "\n",
    "repMICs_phase2_SS, meanMICs_phase2_SS=plotGenEvoMICReps(DATA2_SS, params2_SS,'B',ODmin,'Phase2_StrongSelection', nMIC); \n"
   ]
  },
  {
   "cell_type": "code",
   "execution_count": null,
   "metadata": {
    "id": "hsQAjRTrCvwd",
    "outputId": "1c8be941-9d71-4a4a-863a-f760b18c56ad"
   },
   "outputs": [],
   "source": [
    "\n",
    "MIC1_SS=[repMICs_phase1_SS[0][-1], repMICs_phase1_SS[1][-1], repMICs_phase1_SS[2][-1], repMICs_phase1_SS[3][-1]]\n",
    "MIC2_SS=[repMICs_phase2_SS[0][-1], repMICs_phase2_SS[1][-1], repMICs_phase2_SS[2][-1], repMICs_phase2_SS[3][-1]]\n",
    "\n",
    "print('MS phase 2 (day 1):',MIC1_SS,'\\n\\t mean=',np.mean(MIC1_SS),' s.e.=',np.std(MIC1_SS)/np.sqrt(4))\n",
    "print('MS phase 2 (day 8):',MIC2_SS,'\\n\\t mean=',np.mean(MIC2_SS),' s.e.=',np.std(MIC2_SS)/np.sqrt(4))\n"
   ]
  },
  {
   "cell_type": "code",
   "execution_count": null,
   "metadata": {
    "id": "BNI0aWhCCvwd",
    "outputId": "961ce6bf-2eae-48df-8bf3-50d02d07acb6"
   },
   "outputs": [],
   "source": [
    "\n",
    "plotGenEvoMICs(DATA3_SS, params3_SS,'B',ODmin,'Phase3_StrongSelection');\n",
    "\n",
    "repMICs_phase3_SS, meanMICs_phase3_SS=plotGenEvoMICReps(DATA3_SS, params3_SS,'B',ODmin,'Phase3_StrongSelection'); "
   ]
  },
  {
   "cell_type": "code",
   "execution_count": null,
   "metadata": {
    "id": "k0K0b2RHCvwd",
    "outputId": "88ebfe44-31a1-4be9-ca2e-a06e27544a27"
   },
   "outputs": [],
   "source": [
    "rateAdapt3_SS=getGenEvoRateAdapt(DATA3_SS, params3_SS, 'B', ODmin, nMIC)\n",
    "print('\\nSS (Phase 1): Mean rateAdapt=',np.mean(rateAdapt3_SS),' s.e.=',np.std(rateAdapt3_SS)/np.sqrt(len(rateAdapt3_SS)))\n",
    "\n",
    "genAdapt3_SS=getGenTenFold(DATA3_SS, params3_SS, 'B', ODmin, nMIC)\n",
    "print('Generations elapsed before a ten-fold gain in resistance=%s'%(genAdapt3_SS))\n",
    "print('Mean=%s s.e.=%s'%(np.mean(genAdapt3_SS),np.std(genAdapt3_SS)/np.sqrt(len(rateAdapt3_SS))))"
   ]
  },
  {
   "cell_type": "markdown",
   "metadata": {
    "id": "Otrv2I55Cvwd"
   },
   "source": [
    "## Compare ALL"
   ]
  },
  {
   "cell_type": "code",
   "execution_count": null,
   "metadata": {
    "id": "hN1fIlOfCvwe",
    "outputId": "517812bf-c0c3-4671-8dec-bbdcb0bad03c"
   },
   "outputs": [],
   "source": [
    "print('Phase 1:')\n",
    "print('MS: mean(rateAdapt)=',np.mean(rateAdapt1_MS),' s.e.=',np.std(rateAdapt1_MS/np.sqrt(len(rateAdapt1_MS))))\n",
    "print('SS: mean(rateAdapt)=',np.mean(rateAdapt1_SS),' s.e.=',np.std(rateAdapt1_SS/np.sqrt(len(rateAdapt1_SS))))\n"
   ]
  },
  {
   "cell_type": "code",
   "execution_count": null,
   "metadata": {
    "id": "qX_RmgvGCvwe",
    "outputId": "ab667edd-bbfb-46ef-d16a-b66ee9ee3f82"
   },
   "outputs": [],
   "source": [
    "x= [1, 2, 3, 4]\n",
    "x2= [6, 7, 8, 9]\n",
    "\n",
    "fig, ax1 = plt.subplots(nrows=1, ncols=1, figsize=(6, 4))\n",
    "\n",
    "ax1.bar(x,rateAdapt1_MS, label=\"Mild Selection\", facecolor='#A1D1E7')\n",
    "ax1.bar(x2,rateAdapt1_SS, label=\"Strong Selection\",color='#FEBD70')\n",
    "\n",
    "ax1.set_yticks([0., 0.00025, 0.0005, 0.00075, 0.001])\n",
    "ax1.set_xticks([1,2,3,4,6,7,8,9])\n",
    "ax1.set_xticklabels(['1','2','3','4','1','2','3','4'], fontsize=18)\n",
    "ax1.set_ylabel('Rate of adaptation', fontsize=18)\n",
    "ax1.set_xlabel('Replicates', fontsize=18)\n",
    "\n",
    "plt.legend(fontsize=14)\n",
    "plt.tight_layout()\n",
    "\n",
    "plt.savefig('./figures/Figure1C.pdf')"
   ]
  },
  {
   "cell_type": "code",
   "execution_count": null,
   "metadata": {
    "id": "ISmBOGXt35bU"
   },
   "outputs": [],
   "source": [
    "      "
   ]
  },
  {
   "cell_type": "code",
   "execution_count": null,
   "metadata": {
    "id": "Nt1z3zgICvwe"
   },
   "outputs": [],
   "source": [
    "str_title=''\n",
    "meanMIC1_MS=getEvoMICReps(DATA1_MS, params1_MS,'B',ODmin,str_title)\n",
    "meanMIC3_MS=getEvoMICReps(DATA3_MS, params3_MS,'B',ODmin,str_title)\n",
    "\n",
    "meanMIC1_SS=getEvoMICReps(DATA1_SS, params1_SS,'B',ODmin,str_title)\n",
    "meanMIC3_SS=getEvoMICReps(DATA3_SS, params3_SS,'B',ODmin,str_title)\n"
   ]
  },
  {
   "cell_type": "code",
   "execution_count": null,
   "metadata": {
    "id": "TvHCbrpECvwe",
    "outputId": "a97a67d7-2fda-4658-b7d8-d68a9969c1bd"
   },
   "outputs": [],
   "source": [
    "\n",
    "\n",
    "plotGenEvoMICcompareMean2(DATA1_MS, DATA3_MS, DATA1_SS, DATA3_SS, params1_MS, params3_MS, params1_SS, params3_SS, 'B', ODmin, '')\n"
   ]
  },
  {
   "cell_type": "code",
   "execution_count": null,
   "metadata": {
    "id": "_4VEP5VLCvwf",
    "outputId": "e06e207b-b4d7-4915-a5c8-4028071ff075"
   },
   "outputs": [],
   "source": [
    "\n",
    "MIC3_SS=[repMICs_phase3_SS[0][-1], repMICs_phase3_SS[1][-1], repMICs_phase3_SS[2][-1], repMICs_phase3_SS[3][-1]]\n",
    "MIC2_SS=[repMICs_phase3_SS[0][0], repMICs_phase3_SS[1][0], repMICs_phase3_SS[2][0], repMICs_phase3_SS[3][0]]\n",
    "\n",
    "print('SS phase 3 (day N):',MIC3_SS,'\\n\\t mean=',np.mean(MIC3_SS),' s.e.=',np.std(MIC3_SS)/np.sqrt(len((MIC2_SS))))\n",
    "\n",
    "MICgain_SS=np.divide(MIC3_SS,MIC2_SS)\n",
    "meanMICgain_SS=np.mean(MICgain_SS)\n",
    "steMICgain_SS=np.std(MICgain_SS)/np.sqrt(len(MICgain_SS))\n",
    "\n",
    "print('Mean -fold gain in resistance=%2.1f ste=%2.1f'%(meanMICgain_SS, steMICgain_SS))\n",
    "\n",
    "\n",
    "genAdapt3_SS=getGenTenFold(DATA3_SS, params3_SS, 'B', ODmin, nMIC)\n",
    "print('Generations elapsed before a ten-fold gain in resistance=%s'%(genAdapt3_SS))\n",
    "print('Mean=%s s.e.=%s'%(np.mean(genAdapt3_SS),np.std(genAdapt3_SS)/np.sqrt(len(rateAdapt3_SS))))\n"
   ]
  },
  {
   "cell_type": "code",
   "execution_count": null,
   "metadata": {
    "id": "mLPsodPHCvwf",
    "outputId": "cafac6dd-9ff8-4121-d543-b7cf1cab9dc9"
   },
   "outputs": [],
   "source": [
    "MIC3_MS=[repMICs_phase3_MS[0][-1], repMICs_phase3_MS[1][-1], repMICs_phase3_MS[2][-1], repMICs_phase3_MS[3][-1]]\n",
    "MIC2_MS=[repMICs_phase3_MS[0][0], repMICs_phase3_MS[1][0], repMICs_phase3_MS[2][0], repMICs_phase3_MS[3][0]]\n",
    "\n",
    "print('MS phase 3 (day N):',MIC3_MS,'\\n\\t mean=',np.mean(MIC3_MS),' s.e.=',np.std(MIC3_MS)/np.sqrt(len((MIC3_MS))))\n",
    "\n",
    "MICgain_MS=np.divide(MIC3_MS,MIC2_MS)\n",
    "meanMICgain_MS=np.mean(MICgain_MS)\n",
    "steMICgain_MS=np.std(MICgain_MS)/np.sqrt(len(MICgain_MS))\n",
    "\n",
    "print('Mean -fold gain in resistance=%2.1f ste=%2.1f'%(meanMICgain_MS, steMICgain_MS))\n",
    "\n",
    "genAdapt3_MS=getGenTenFold(DATA3_MS, params3_MS, 'B', ODmin, nMIC)\n",
    "print('Generations elapsed before a ten-fold gain in resistance=%s'%(genAdapt3_MS))\n",
    "print('Mean=%s s.e.=%s'%(np.mean(genAdapt3_MS),np.std(genAdapt3_MS)/np.sqrt(len(rateAdapt3_MS))))"
   ]
  },
  {
   "cell_type": "code",
   "execution_count": null,
   "metadata": {
    "id": "iKnsr0O035bW",
    "outputId": "01841cdb-7039-40c8-cf44-f70917c4fda6"
   },
   "outputs": [],
   "source": [
    "\n",
    "labels = ['1', '2','3']\n",
    "fig, [ax1,ax2] = plt.subplots(nrows=1, ncols=2, figsize=(6, 4))\n",
    "\n",
    "\n",
    "rho_MS1={'rho1':rateAdapt1_MS}\n",
    "rho_MS3={'rho1':rateAdapt3_MS}\n",
    "rhoF_MS1=pandas.DataFrame(data=rho_MS1, dtype='float64')\n",
    "rhoF_MS3=pandas.DataFrame(data=rho_MS3, dtype='float64')\n",
    "\n",
    "d_rho_MS=pandas.concat([rhoF_MS1, rhoF_MS3], ignore_index=True, axis=1)\n",
    "df_rho_MS = pandas.DataFrame(data=d_rho_MS, dtype='float64')\n",
    "sns.stripplot(data=df_rho_MS, ax=ax1, palette=[ '#A1D1E7'],size=8,jitter=0.2)\n",
    "\n",
    "rho_SS1={'rho1':rateAdapt1_SS}\n",
    "rho_SS3={'rho1':rateAdapt3_SS}\n",
    "rhoF_SS1=pandas.DataFrame(data=rho_SS1, dtype='float64')\n",
    "rhoF_SS3=pandas.DataFrame(data=rho_SS3, dtype='float64')\n",
    "\n",
    "d_rho_SS=pandas.concat([rhoF_SS1, rhoF_SS3], ignore_index=True, axis=1)\n",
    "df_rho_SS = pandas.DataFrame(data=d_rho_SS, dtype='float64')\n",
    "sns.stripplot(data=df_rho_SS, ax=ax2, palette=[ '#FEBD70'],size=8,jitter=0.2)\n",
    "\n",
    "ax1.plot([0,1],[np.mean(rateAdapt1_MS), np.mean(rateAdapt3_MS)],'-o',color='#1F77B1',linewidth=3)\n",
    "ax2.plot([0,1],[np.mean(rateAdapt1_SS), np.mean(rateAdapt3_SS)],'-o',color='#FD8002',linewidth=3)\n",
    "\n",
    "ax1.set_ylabel('Rate of adaptation', fontsize=18)\n",
    "ax1.set_xlabel('Phase', fontsize=18)\n",
    "ax1.set_ylim([0, 0.002])\n",
    "ax1.set_yticks([0., 0.001, 0.002])\n",
    "ax1.set_yticklabels(1e3*np.array([0., 0.001, 0.002]))\n",
    "ax1.set_xticks([0,1])\n",
    "ax1.set_xticklabels([1,3])\n",
    "\n",
    "ax1.set_title('Mild selection', fontsize=18)\n",
    "\n",
    "ax2.set_ylim([0, 0.002])\n",
    "ax2.set_xticks([0,1])\n",
    "ax2.set_xticklabels([1,3])\n",
    "ax2.set_yticks([])\n",
    "ax2.set_xlabel('Phase', fontsize=18)\n",
    "\n",
    "ax2.set_title('Strong selection', fontsize=18)\n",
    "        \n",
    "fig.tight_layout()\n",
    "\n",
    "plt.savefig('./figures/Figure4C.pdf')\n"
   ]
  },
  {
   "cell_type": "code",
   "execution_count": null,
   "metadata": {
    "id": "XpyuDkq4Cvwf",
    "outputId": "344874d1-41b2-4d42-af73-84989a41d2bc"
   },
   "outputs": [],
   "source": [
    "\n",
    "\n",
    "#Mild selection\n",
    "print('**** MS')\n",
    "print('\\n\\nMS-Phase 1: mean(rateAdapt)=',np.mean(rateAdapt1_MS),' std=',np.std(rateAdapt1_MS/np.sqrt(len(rateAdapt1_MS))))\n",
    "print('MS-Phase 3: mean(rateAdapt)=',np.mean(rateAdapt3_MS),' std=',np.std(rateAdapt3_MS/np.sqrt(len(rateAdapt1_MS))))\n",
    "\n",
    "stat_rho_MS, p_rho_MS = stats.ttest_ind(rateAdapt1_MS, rateAdapt3_MS, equal_var = False)\n",
    "print('\\nStatistics=%.3f, p=%.3f' % (stat_rho_MS, p_rho_MS))\n",
    "if p_rho_MS > 0.05:\n",
    "    print('[MS] two-tailed P value: difference in rateAdapt between phase 1 and 3 is not statistically significant')\n",
    "else:\n",
    "    print('[MS] two-tailed P value: difference in rateAdapt between phase 1 and 3 is statistically significant')\n",
    "    \n",
    "    \n",
    "#Strong selection    \n",
    "print('\\n**** SS')\n",
    "print('SS-Phase 1: mean(rateAdapt)=',np.mean(rateAdapt1_SS),' std=',np.std(rateAdapt1_SS/np.sqrt(len(rateAdapt1_SS))))\n",
    "print('SS-Phase 3: mean(rateAdapt)=',np.mean(rateAdapt3_SS),' std=',np.std(rateAdapt3_SS/np.sqrt(len(rateAdapt3_SS))))\n",
    "\n",
    "stat_rho_SS, p_rho_SS = stats.ttest_ind(rateAdapt1_SS, rateAdapt3_SS, equal_var = False)\n",
    "print('\\nStatistics=%.3f, p=%.3f' % (stat_rho_SS, p_rho_SS))\n",
    "if p_rho_SS > 0.05:\n",
    "    print('[SS] two-tailed P value: difference in rateAdapt between phase 1 and 3 is not statistically significant')\n",
    "else:\n",
    "    print('[SS] two-tailed P value: difference in rateAdapt between phase 1 and 3 is statistically significant')"
   ]
  },
  {
   "cell_type": "code",
   "execution_count": null,
   "metadata": {
    "id": "8BHbGEKOCvwg",
    "outputId": "2a6f5d0f-4290-495b-b4aa-355ce70fb104"
   },
   "outputs": [],
   "source": [
    "\n",
    "plotGenEvoMICcompare(DATA1_MS, DATA1_SS, params1_MS, params1_SS, 'B', ODmin, '1B', ['Mild Selection','Strong Selection'])\n"
   ]
  },
  {
   "cell_type": "code",
   "execution_count": null,
   "metadata": {
    "id": "bxSRpCM-Cvwi",
    "outputId": "5bdb9bd3-7709-4819-a511-9717703541e5",
    "scrolled": false
   },
   "outputs": [],
   "source": [
    "\n",
    "DATA_ALL_MS=concatenateDATA([DATA1_MS, DATA2_MS, DATA3_MS])\n",
    "\n",
    "params_ALL_MS=dict()\n",
    "params_ALL_MS['verbose']=False\n",
    "params_ALL_MS=params1_MS\n",
    "\n",
    "\n",
    "phase_days=[len(DATA1_MS),len(DATA1_MS)+len(DATA2_MS),len(DATA1_MS)+len(DATA2_MS)+len(DATA3_MS)]\n",
    "\n",
    "plotGenEvoMICRepsALL(DATA_ALL_MS, params_ALL_MS,'B',ODmin,'S1A',-1,-1,phase_days); \n",
    "\n"
   ]
  },
  {
   "cell_type": "code",
   "execution_count": null,
   "metadata": {
    "id": "YtHbTWy9Cvwj",
    "outputId": "3c710045-9089-41b4-b84c-2441ee933777"
   },
   "outputs": [],
   "source": [
    "\n",
    "DATA_ALL_SS=concatenateDATA([DATA1_SS, DATA2_SS, DATA3_SS])\n",
    "\n",
    "params_ALL_SS=dict()\n",
    "params_ALL_SS['verbose']=False\n",
    "params_ALL_SS=params1_SS\n",
    "\n",
    "\n",
    "phase_days=[len(DATA1_SS),len(DATA1_SS)+len(DATA2_SS),len(DATA1_SS)+len(DATA2_SS)+len(DATA3_SS)]\n",
    "\n",
    "plotGenEvoMICRepsALL(DATA_ALL_SS, params_ALL_SS,'B',ODmin,'S1B', -1, -1, phase_days); "
   ]
  },
  {
   "cell_type": "code",
   "execution_count": null,
   "metadata": {
    "id": "D_hh0EUY35bX",
    "outputId": "8acd2990-9f9e-43a6-fbc7-c313bc062426"
   },
   "outputs": [],
   "source": [
    "\n",
    "filter_days=[len(DATA1_SS)-2,len(DATA1_SS)+len(DATA2_SS)]\n",
    "\n",
    "redMIC_SS=plotGenEvoMICRepsNoSelection(DATA_ALL_SS, params_ALL_SS,'B',ODmin,'2D',-1,-1,filter_days); \n"
   ]
  },
  {
   "cell_type": "code",
   "execution_count": null,
   "metadata": {
    "id": "EAGxkNph35bY",
    "outputId": "00c87227-5653-496a-ff4f-c51e45745b0c"
   },
   "outputs": [],
   "source": [
    "\n",
    "filter_days=[len(DATA1_MS)-2,len(DATA1_MS)+len(DATA2_MS)]\n",
    "\n",
    "redMIC_MS=plotGenEvoMICRepsNoSelection(DATA_ALL_MS, params_ALL_MS,'B',ODmin,'2C',-1,-1,filter_days); \n",
    "\n",
    "\n"
   ]
  },
  {
   "cell_type": "code",
   "execution_count": null,
   "metadata": {
    "id": "T7_iPszq35bY",
    "outputId": "85033240-e17e-45a5-b8b8-66849ba71257"
   },
   "outputs": [],
   "source": [
    "\n",
    "\n",
    "stat_MICs, p_MICs = stats.ttest_ind(redMIC_SS, redMIC_MS, equal_var = False)\n",
    "print('\\nStatistics=%.5f, p=%.5f' % (stat_MICs, p_MICs))\n",
    "\n",
    "alpha = 0.05\n",
    "if p_MICs > alpha:\n",
    "    print('two-tailed P value: difference between MS and SS in Phase 2 is not statistically significant')\n",
    "else:\n",
    "    print('two-tailed P value: difference between MS and SS in Phase 2 is statistically significant')"
   ]
  },
  {
   "cell_type": "markdown",
   "metadata": {
    "id": "xM9MU2Si35bY"
   },
   "source": [
    "## Competition experiments"
   ]
  },
  {
   "cell_type": "code",
   "execution_count": null,
   "metadata": {
    "id": "YF8dwQ_y35bY"
   },
   "outputs": [],
   "source": [
    "df = pandas.read_csv('../../data/EvoAMP_competition.csv')"
   ]
  },
  {
   "cell_type": "code",
   "execution_count": null,
   "metadata": {
    "id": "JVd242m_35bZ",
    "outputId": "93231bbe-af93-40d7-a0b8-2d797412f63a"
   },
   "outputs": [],
   "source": [
    "\n",
    "df_LB=df.query(\"Media == 'LB'\")\n",
    "df_AMP=df.query(\"Media == 'AMP'\")\n",
    "cells=50000 #in flow cytometer\n",
    "\n",
    "\n",
    "print(\"*********** SS\")\n",
    "df_AMP_SS=df_AMP.query(\"Selection == 'SS'\")\n",
    "df_AMP_SS_Phase1=df_AMP_SS.query(\"Phase == 1\")\n",
    "df_AMP_SS_Phase2=df_AMP_SS.query(\"Phase == 2\")\n",
    "df_AMP_SS_Phase3=df_AMP_SS.query(\"Phase == 3\")\n",
    "\n",
    "SS1_freq0h=(df_AMP_SS_Phase1['Freq0h'])\n",
    "SS2_freq0h=(df_AMP_SS_Phase2['Freq0h'])\n",
    "SS3_freq0h=(df_AMP_SS_Phase3['Freq0h'])\n",
    "\n",
    "SS1_freq6h=(df_AMP_SS_Phase1['Freq6h'])\n",
    "SS2_freq6h=(df_AMP_SS_Phase2['Freq6h'])\n",
    "SS3_freq6h=(df_AMP_SS_Phase3['Freq6h'])\n",
    "\n",
    "SS1_meanFreq0h=(SS1_freq0h.to_numpy())\n",
    "SS2_meanFreq0h=(SS2_freq0h.to_numpy())\n",
    "SS3_meanFreq0h=(SS3_freq0h.to_numpy())\n",
    "\n",
    "SS1_meanFreq6h=(SS1_freq6h.to_numpy())\n",
    "SS2_meanFreq6h=(SS2_freq6h.to_numpy())\n",
    "SS3_meanFreq6h=(SS3_freq6h.to_numpy())\n",
    "\n",
    "SS1_relFitness=np.log(cells*SS1_meanFreq6h/100)/np.log(cells*(1-SS1_meanFreq6h/100))\n",
    "SS2_relFitness=np.log(cells*SS2_meanFreq6h/100)/np.log(cells*(1-SS2_meanFreq6h/100))\n",
    "SS3_relFitness=np.log(cells*SS3_meanFreq6h/100)/np.log(cells*(1-SS3_meanFreq6h/100))\n",
    "\n",
    "print('SS (Phase 1) @0h: %2.3f s.e. = %2.3f'%(np.mean(SS1_relFitness), np.std(SS1_relFitness)/len(np.sqrt(SS1_relFitness))))\n",
    "print('SS (Phase 2) @0h: %2.3f s.e. = %2.3f'%(np.mean(SS2_relFitness), np.std(SS2_relFitness)/len(np.sqrt(SS2_relFitness))))\n",
    "print('SS (Phase 3) @0h: %2.3f s.e. = %2.3f'%(np.mean(SS3_relFitness), np.std(SS3_relFitness)/len(np.sqrt(SS3_relFitness))))\n",
    "\n",
    "\n",
    "print(\"*********** MS\")\n",
    "df_AMP_MS=df_AMP.query(\"Selection == 'MS'\")\n",
    "df_AMP_MS_Phase1=df_AMP_MS.query(\"Phase == 1\")\n",
    "df_AMP_MS_Phase2=df_AMP_MS.query(\"Phase == 2\")\n",
    "df_AMP_MS_Phase3=df_AMP_MS.query(\"Phase == 3\")\n",
    "\n",
    "MS1_freq0h=(df_AMP_MS_Phase1['Freq0h'])\n",
    "MS2_freq0h=(df_AMP_MS_Phase2['Freq0h'])\n",
    "MS3_freq0h=(df_AMP_MS_Phase3['Freq0h'])\n",
    "\n",
    "MS1_freq6h=(df_AMP_MS_Phase1['Freq6h'])\n",
    "MS2_freq6h=(df_AMP_MS_Phase2['Freq6h'])\n",
    "MS3_freq6h=(df_AMP_MS_Phase3['Freq6h'])\n",
    "\n",
    "MS1_meanFreq0h=(MS1_freq0h.to_numpy())\n",
    "MS2_meanFreq0h=(MS2_freq0h.to_numpy())\n",
    "MS3_meanFreq0h=(MS3_freq0h.to_numpy())\n",
    "\n",
    "MS1_meanFreq6h=(MS1_freq6h.to_numpy())\n",
    "MS2_meanFreq6h=(MS2_freq6h.to_numpy())\n",
    "MS3_meanFreq6h=(MS3_freq6h.to_numpy())\n",
    "\n",
    "MS1_relFitness=np.log(cells*MS1_meanFreq6h/100)/np.log(cells*(1-MS1_meanFreq6h/100))\n",
    "MS2_relFitness=np.log(cells*MS2_meanFreq6h/100)/np.log(cells*(1-MS2_meanFreq6h/100))\n",
    "MS3_relFitness=np.log(cells*MS3_meanFreq6h/100)/np.log(cells*(1-MS3_meanFreq6h/100))\n",
    "\n",
    "print('MS (Phase 1) @0h: %2.3f s.e. = %2.3f'%(np.mean(MS1_relFitness), np.std(MS1_relFitness)/len(np.sqrt(MS1_relFitness))))\n",
    "print('MS (Phase 2) @0h: %2.3f s.e. = %2.3f'%(np.mean(MS2_relFitness), np.std(MS2_relFitness)/len(np.sqrt(MS2_relFitness))))\n",
    "print('MS (Phase 3) @0h: %2.3f s.e. = %2.3f'%(np.mean(MS3_relFitness), np.std(MS3_relFitness)/len(np.sqrt(MS3_relFitness))))\n",
    "\n"
   ]
  },
  {
   "cell_type": "code",
   "execution_count": null,
   "metadata": {
    "id": "AYMb3XLH35bZ",
    "outputId": "582d7522-8050-4681-e7cd-53bb8e0a2825"
   },
   "outputs": [],
   "source": [
    "\n",
    "\n",
    "stat_cost_SS, p_cost_SS = stats.ttest_ind(SS1_relFitness, SS2_relFitness, equal_var = False)\n",
    "print('\\nStatistics=%.3f, p=%.3f' % (stat_cost_SS, p_cost_SS))\n",
    "if p_cost_SS > 0.05:\n",
    "    print('[SS] two-tailed P value: difference in relFitness between Phase 1 and 2 is not statistically significant')\n",
    "else:\n",
    "    print('[SS] two-tailed P value: difference in relFitness between Phase 1 and 2 is statistically significant')\n",
    "\n",
    "stat_cost_MS, p_cost_MS = stats.ttest_ind(MS1_relFitness, MS2_relFitness, equal_var = False)\n",
    "print('\\nStatistics=%.3f, p=%.3f' % (stat_cost_MS, p_cost_MS))\n",
    "if p_cost_MS > 0.05:\n",
    "    print('[MS] two-tailed P value: difference in relFitness between Phase 1 and 2 is not statistically significant')\n",
    "else:\n",
    "    print('[MS] two-tailed P value: difference in relFitness between Phase 1 and 2 is statistically significant')\n"
   ]
  },
  {
   "cell_type": "code",
   "execution_count": null,
   "metadata": {
    "id": "BCAaheIU35bZ",
    "outputId": "1a789bca-6e53-43dd-9fd2-610b01e05bef"
   },
   "outputs": [],
   "source": [
    "\n",
    "stat_cost_phase1, p_cost_phase1 = stats.ttest_ind(MS1_relFitness, SS1_relFitness, equal_var = False)\n",
    "print('*** Phase 1\\nStatistics=%.3f, p=%.3f' % (stat_cost_phase1, p_cost_phase1))\n",
    "if p_cost_phase1 > 0.05:\n",
    "    print('[SS] two-tailed P value: difference in relFitness (Phase 1) between MS and SS is not statistically significant')\n",
    "else:\n",
    "    print('[SS] two-tailed P value: difference in relFitness (Phase 1) between MS and SS is statistically significant')\n",
    "\n",
    "stat_cost_phase2, p_cost_phase2 = stats.ttest_ind(MS2_relFitness, SS2_relFitness, equal_var = False)\n",
    "print('*** Phase 2\\nStatistics=%.3f, p=%.3f' % (stat_cost_phase2, p_cost_phase2))\n",
    "if p_cost_phase2 > 0.05:\n",
    "    print('[SS] two-tailed P value: difference in relFitness (Phase 2) between MS and SS is not statistically significant')\n",
    "else:\n",
    "    print('[SS] two-tailed P value: difference in relFitness (Phase 2) between MS and SS is statistically significant')\n",
    "\n",
    "stat_cost_phase3, p_cost_phase3 = stats.ttest_ind(MS3_relFitness, SS3_relFitness, equal_var = False)\n",
    "print('*** Phase 3\\nStatistics=%.3f, p=%.3f' % (stat_cost_phase3, p_cost_phase3))\n",
    "if p_cost_phase3 > 0.05:\n",
    "    print('[SS] two-tailed P value: difference in relFitness (Phase 3) between MS and SS is not statistically significant')\n",
    "else:\n",
    "    print('[SS] two-tailed P value: difference in relFitness (Phase 3) between MS and SS is statistically significant')\n",
    "    \n",
    "    "
   ]
  },
  {
   "cell_type": "code",
   "execution_count": null,
   "metadata": {
    "id": "H91domYh35bZ",
    "outputId": "53b56289-1aea-491b-b57e-bfd6a76c4db8"
   },
   "outputs": [],
   "source": [
    "\n",
    "df_LB=df.query(\"Media == 'LB'\")\n",
    "\n",
    "\n",
    "print(\"*********** SS (non-selective media)\")\n",
    "\n",
    "df_LB_SS=df_LB.query(\"Selection == 'SS'\")\n",
    "df_LB_SS_Phase1=df_LB_SS.query(\"Phase == 1\")\n",
    "SS1_LB_freq6h=(df_LB_SS_Phase1['Freq6h'])\n",
    "SS1_LB_meanFreq6h=(SS1_LB_freq6h.to_numpy())\n",
    "SS1_LB_relFitness=np.log(cells*SS1_LB_meanFreq6h/100)/np.log(cells*(1-SS1_LB_meanFreq6h/100))\n",
    "print('SS_LB (Phase 1) @6h: %2.3f s.e. = %2.3f'%(np.mean(SS1_LB_relFitness), np.std(SS1_LB_relFitness)/len(np.sqrt(SS1_LB_relFitness))))\n",
    "\n",
    "\n",
    "print(\"*********** MS (non-selective media)\")\n",
    "\n",
    "df_LB_MS=df_LB.query(\"Selection == 'MS'\")\n",
    "df_LB_MS_Phase1=df_LB_MS.query(\"Phase == 1\")\n",
    "MS1_LB_freq6h=(df_LB_MS_Phase1['Freq6h'])\n",
    "MS1_LB_meanFreq6h=(MS1_LB_freq6h.to_numpy())\n",
    "MS1_LB_relFitness=np.log(cells*MS1_LB_meanFreq6h/100)/np.log(cells*(1-MS1_LB_meanFreq6h/100))\n",
    "print('MS_LB (Phase 1) @6h: %2.3f s.e. = %2.3f'%(np.mean(MS1_LB_relFitness), np.std(MS1_LB_relFitness)/len(np.sqrt(MS1_LB_relFitness))))\n",
    "\n"
   ]
  },
  {
   "cell_type": "code",
   "execution_count": null,
   "metadata": {
    "id": "8MP35GQO35bZ",
    "outputId": "49910fae-71ac-491e-c21d-2e5ce895a4c5"
   },
   "outputs": [],
   "source": [
    "\n",
    "print('[MS] Relative Fitness LB: %0.2f s.e.=%0.2f'%(np.mean(MS1_LB_relFitness), np.std(MS1_LB_relFitness)/np.sqrt(len(MS1_LB_relFitness))))   \n",
    "stat_media_MS, p_media_MS = stats.ttest_ind(MS1_LB_relFitness, MS1_relFitness, equal_var = False)\n",
    "print('*** Phase 1\\nStatistics=%.3f, p=%.3f' % (stat_media_MS, p_media_MS))\n",
    "if p_media_MS > 0.05:\n",
    "    print('[MS] two-tailed P value: difference in relFitness (Phase 1) between LB and AMP is not statistically significant')\n",
    "else:\n",
    "    print('[MS] two-tailed P value: difference in relFitness (Phase 1) between LB and AMP is statistically significant')\n",
    "\n",
    "print(\"******\")\n",
    "print('[SS] Relative Fitness LB: %0.2f s.e.=%0.2f'%(np.mean(SS1_LB_relFitness), np.std(SS1_LB_relFitness)/np.sqrt(len(SS1_LB_relFitness))))    \n",
    "stat_media_SS, p_media_SS = stats.ttest_ind(SS1_LB_relFitness, SS1_relFitness, equal_var = False)\n",
    "print('*** Phase 1\\nStatistics=%.3f, p=%.3f' % (stat_media_SS, p_media_SS))\n",
    "if p_media_SS > 0.05:\n",
    "    print('[SS] two-tailed P value: difference in relFitness (Phase 1) between LB and AMP is not statistically significant')\n",
    "else:\n",
    "    print('[SS] two-tailed P value: difference in relFitness (Phase 1) between LB and AMP is statistically significant')\n",
    "    \n",
    "    "
   ]
  },
  {
   "cell_type": "code",
   "execution_count": null,
   "metadata": {
    "id": "UCRWWsD035ba",
    "outputId": "dc966d4a-5e5c-42eb-fd18-265a1bf2df76"
   },
   "outputs": [],
   "source": [
    "\n",
    "\n",
    "labels = ['AMP', 'LB']\n",
    "fig, [ax1,ax2] = plt.subplots(nrows=1, ncols=2, figsize=(6, 4))\n",
    "\n",
    "d_MS1={'relMIC1':MS1_relFitness}\n",
    "d_MS1_LB={'relMIC1_LB':MS1_LB_relFitness}\n",
    "rF_MS1=pandas.DataFrame(data=d_MS1, dtype='float64')\n",
    "rF_MS1_LB=pandas.DataFrame(data=d_MS1_LB, dtype= 'float64')\n",
    "d_relFitness_MS_LB=pandas.concat([rF_MS1, rF_MS1_LB], ignore_index=True, axis=1)\n",
    "df_relFitness_MS_LB = pandas.DataFrame(data=d_relFitness_MS_LB, dtype='float64')\n",
    "sns.stripplot(data=df_relFitness_MS_LB, ax=ax1, palette=[ '#1F77B1', '#A1D1E7'],size=8)\n",
    "\n",
    "d_SS1={'relMIC1':SS1_relFitness}\n",
    "d_SS1_LB={'relMIC1_LB':SS1_LB_relFitness}\n",
    "rF_SS1=pandas.DataFrame(data=d_SS1, dtype='float64')\n",
    "rF_SS1_LB=pandas.DataFrame(data=d_SS1_LB, dtype= 'float64')\n",
    "d_relFitness_SS_LB=pandas.concat([rF_SS1, rF_SS1_LB], ignore_index=True, axis=1)\n",
    "df_relFitness_SS_LB = pandas.DataFrame(data=d_relFitness_SS_LB, dtype='float64')\n",
    "sns.stripplot(data=df_relFitness_SS_LB, ax=ax2, palette=[ '#FD8002', '#FEBD70'],size=8)\n",
    "\n",
    "ax1.set_ylabel('Relative Fitness', fontsize=18)\n",
    "ax1.set_xticks([0,1])\n",
    "ax1.set_xticklabels(labels)\n",
    "ax1.set_ylim([0.7, 1.3])\n",
    "ax1.set_xlim([-0.5, 1.5])\n",
    "ax1.plot([-0.5,2.5],[1,1],':k')\n",
    "\n",
    "ax2.plot(np.ones(4),rateAdapt1_SS,'ok')\n",
    "ax2.plot(np.ones(4)*2,rateAdapt3_SS,'ok')\n",
    "ax2.set_xticks([0,1])\n",
    "ax2.set_xticklabels(labels)\n",
    "ax2.set_ylim([.7, 1.3])\n",
    "ax2.set_xlim([-0.5, 1.5])\n",
    "ax2.set_yticks([])\n",
    "ax2.plot([-0.5,2.5],[1,1],':k')\n",
    "\n",
    "fig.tight_layout()\n",
    "\n",
    "plt.savefig('./figures/FigureS4.pdf')\n"
   ]
  },
  {
   "cell_type": "code",
   "execution_count": null,
   "metadata": {
    "id": "ITf-v7Jk35ba",
    "outputId": "4694ac77-a526-4dc0-db9a-711fe0f271b1"
   },
   "outputs": [],
   "source": [
    "\n",
    "\n",
    "labels = ['1', '2','3']\n",
    "fig, [ax1,ax2] = plt.subplots(nrows=1, ncols=2, figsize=(6, 4))\n",
    "\n",
    "d_MS1={'relMIC1':MS1_relFitness}\n",
    "d_MS2={'relMIC2':MS2_relFitness}\n",
    "d_MS3={'relMIC3':MS3_relFitness}\n",
    "rF_MS1=pandas.DataFrame(data=d_MS1, dtype='float64')\n",
    "rF_MS2=pandas.DataFrame(data=d_MS2, dtype= 'float64')\n",
    "rF_MS3=pandas.DataFrame(data=d_MS3, dtype= 'float64')\n",
    "d_relFitness_MS=pandas.concat([rF_MS1, rF_MS2, rF_MS3], ignore_index=True, axis=1)\n",
    "df_relFitness_MS = pandas.DataFrame(data=d_relFitness_MS, dtype='float64')\n",
    "sns.stripplot(data=df_relFitness_MS, ax=ax1, palette=[ '#1F77B1', '#A1D1E7', '#1F77B1'])\n",
    "\n",
    "d_SS1={'relMIC':SS1_relFitness}\n",
    "d_SS2={'relMIC':SS2_relFitness}\n",
    "d_SS3={'relMIC':SS3_relFitness}\n",
    "rF_SS1=pandas.DataFrame(data=d_SS1, dtype='float64')\n",
    "rF_SS2=pandas.DataFrame(data=d_SS2, dtype= 'float64')\n",
    "rF_SS3=pandas.DataFrame(data=d_SS3, dtype= 'float64')\n",
    "d_relFitness_SS=pandas.concat([rF_SS1, rF_SS2, rF_SS3], ignore_index=True, axis=1)\n",
    "df_relFitness_SS = pandas.DataFrame(data=d_relFitness_SS, dtype='float64')\n",
    "sns.stripplot(data=df_relFitness_SS, ax=ax2, palette=[ '#FD8002', '#FEBD70', '#FD8002'])\n",
    "\n",
    "\n",
    "ax1.set_ylabel('Relative Fitness', fontsize=18)\n",
    "ax1.set_xlabel('Phase', fontsize=18)\n",
    "ax1.set_ylim([0.6, 1.4])\n",
    "ax1.set_xlim([-0.5, 2.5])\n",
    "ax1.plot([-0.5,3],[1,1],':k')\n",
    "ax1.set_title('Mild selection', fontsize=18)\n",
    "\n",
    "plot1 = ax1.plot(range(0,3), [np.mean(MS1_relFitness), np.mean(MS2_relFitness), np.mean(MS3_relFitness)],'-o',color='#1F77B1',linewidth=3) \n",
    "plot2 = ax2.plot(range(0,3),[np.mean(SS1_relFitness), np.mean(SS2_relFitness), np.mean(SS3_relFitness)],'-o',color='#FD8002',linewidth=3)\n",
    "\n",
    "ax2.set_ylim([.6, 1.4])\n",
    "ax2.plot([0.5,3],[1,1],':k')\n",
    "ax2.set_xlim([-0.5, 2.5])\n",
    "ax2.set_yticks([])\n",
    "ax2.set_xlabel('Phase', fontsize=18)\n",
    "colors = ['#FEBD70', '#FEBD70', '#FEBD70']\n",
    "\n",
    "ax2.set_title('Strong selection', fontsize=18)\n",
    "        \n",
    "ax1.set_xticks([0,1,2])\n",
    "ax1.set_xticklabels([1,2,3])\n",
    "ax2.set_xticks([0,1,2])\n",
    "ax2.set_xticklabels([1,2,3])\n",
    "fig.tight_layout()\n",
    "\n",
    "plt.savefig('./figures/Figure4A.pdf')\n"
   ]
  },
  {
   "cell_type": "markdown",
   "metadata": {
    "id": "vNIURKWX35ba"
   },
   "source": [
    "## Drug resistance assays"
   ]
  },
  {
   "cell_type": "code",
   "execution_count": null,
   "metadata": {
    "id": "x6mkSWiT35bb",
    "outputId": "bb911eec-c8b9-4059-f07f-f9a43e794808"
   },
   "outputs": [],
   "source": [
    "df_MS = pandas.read_csv('../../data/Data_generations_MS.csv')\n",
    "\n",
    "df_MS_phase1=df_MS.query(\"Day == 25\")\n",
    "df_MS_phase2=df_MS.query(\"Day == 31\")\n",
    "df_MS_phase3=df_MS.query(\"Day == 43\")\n",
    "\n",
    "print(\"MS Phase1 mean(MIC)=%2.3f s.e.=%2.3f\"%(np.mean(df_MS_phase1['relMIC']), np.std(df_MS_phase1['relMIC'])/np.sqrt(len(df_MS_phase1['relMIC']))))\n",
    "print(\"MS Phase2 mean(MIC)=%2.3f s.e.=%2.3f\"%(np.mean(df_MS_phase2['relMIC']), np.std(df_MS_phase2['relMIC'])/np.sqrt(len(df_MS_phase2['relMIC']))))\n",
    "print(\"MS Phase3 mean(MIC)=%2.3f s.e.=%2.3f\"%(np.mean(df_MS_phase3['relMIC']), np.std(df_MS_phase3['relMIC'])/np.sqrt(len(df_MS_phase3['relMIC']))))\n",
    "\n",
    "redMIC_MS=100-100*np.mean(df_MS_phase2['relMIC'])/np.mean(df_MS_phase1['relMIC'])\n",
    "print(\"MS Reduction in MIC between end of Phase 1 and end of Phase 2: %1.2f \"%(redMIC_MS))\n"
   ]
  },
  {
   "cell_type": "code",
   "execution_count": null,
   "metadata": {
    "id": "UwGGD7Nd35bb",
    "outputId": "57621c01-4f8c-4900-88e5-0d979bb276be"
   },
   "outputs": [],
   "source": [
    "df_SS = pandas.read_csv('../../data/Data_generations_SS.csv')\n",
    "\n",
    "df_SS_phase1=df_SS.query(\"Day == 7\")\n",
    "df_SS_phase2=df_SS.query(\"Day == 15\")\n",
    "df_SS_phase3=df_SS.query(\"Day == 26\")\n",
    "\n",
    "\n",
    "print(\"SS Phase1 mean(MIC)=%2.3f s.e.=%2.3f\"%(np.mean(df_SS_phase1['relMIC']), np.std(df_SS_phase1['relMIC'])/np.sqrt(len(df_SS_phase1['relMIC']))))\n",
    "print(\"SS Phase2 mean(MIC)=%2.3f s.e.=%2.3f\"%(np.mean(df_SS_phase2['relMIC']), np.std(df_SS_phase2['relMIC'])/np.sqrt(len(df_SS_phase2['relMIC']))))\n",
    "print(\"SS Phase3 mean(MIC)=%2.3f s.e.=%2.3f\"%(np.mean(df_SS_phase3['relMIC']), np.std(df_SS_phase3['relMIC'])/np.sqrt(len(df_SS_phase3['relMIC']))))\n",
    "\n",
    "\n",
    "redMIC_SS=100-100*np.mean(df_SS_phase2['relMIC'])/np.mean(df_SS_phase1['relMIC'])\n",
    "print(\"SS Reduction in MIC between end of Phase 1 and end of Phase 2: %1.2f \"%(redMIC_SS))\n"
   ]
  },
  {
   "cell_type": "code",
   "execution_count": null,
   "metadata": {
    "id": "hUVGeURX35bb",
    "outputId": "dda3f37d-dd24-44ab-d627-cefb49b26d3e"
   },
   "outputs": [],
   "source": [
    "fig, [ax1,ax2,ax3] = plt.subplots(nrows=1, ncols=3, figsize=(12,4))\n",
    "\n",
    "d_MS1={'relMIC':[5.6, 4.2, 4.2, 4.2, 4.2, 4.2]}\n",
    "d_SS1={'relMIC':[9.2, 9.2, 9.2, 10.0, 10.0, 10.0, 10.0, 10.0, 9.2, 9.2]}\n",
    "clones_MS_phase1=pandas.DataFrame(data=d_MS1, dtype='float64')\n",
    "clones_SS_phase1=pandas.DataFrame(data=d_SS1, dtype= 'float64')\n",
    "\n",
    "d_mic1=pandas.concat([df_MS_phase1['relMIC'], clones_MS_phase1, df_SS_phase1['relMIC'], clones_SS_phase1], ignore_index=True, axis=1)\n",
    "df_mic1 = pandas.DataFrame(data=d_mic1, dtype='float64')\n",
    "\n",
    "sns.stripplot(data=df_mic1, palette=['#1F77B1', '#A1D1E7', '#FD8002', '#FEBD70'], ax=ax1, size=8,jitter=0.25)\n",
    "ax1.set_ylabel('Normalized MIC', fontsize=18)\n",
    "ax1.set_xticks([0,1,2,3])\n",
    "ax1.set_xticklabels(['MS$_{pop}$','MS$_{clone}$','SS$_{pop}$','SS$_{clone}$'])\n",
    "ax1.set_ylim([0, 16])\n",
    "ax1.set_xlim([-0.5, 3.5])\n",
    "ax1.set_title('Phase 1', fontsize=18)\n",
    "ax1.set_yticks([1, 5, 10, 15])\n",
    "ax1.set_yticklabels(['WT',5,10,15])\n",
    "\n",
    "d_MS2={'relMIC':[4.2, 9.2, 5.6, 9.2, 7.2, 7.2]}\n",
    "d_SS2={'relMIC':[0.5, 0.5, 0.5, 1, 1, 1]}\n",
    "clones_MS_phase2=pandas.DataFrame(data=d_MS2, dtype='float64')\n",
    "clones_SS_phase2=pandas.DataFrame(data=d_SS2, dtype= 'float64')\n",
    "\n",
    "d_mic2=pandas.concat([df_MS_phase2['relMIC'], clones_MS_phase2, df_SS_phase2['relMIC'], clones_SS_phase2], ignore_index=True, axis=1)\n",
    "df_mic2 = pandas.DataFrame(data=d_mic2, dtype='float64')\n",
    "\n",
    "sns.stripplot(data=df_mic2, palette=['#1F77B1', '#A1D1E7', '#FD8002', '#FEBD70'], ax=ax2, size=8,jitter=0.25)\n",
    "ax2.set_xticks([0,1,2,3])\n",
    "ax2.set_yticks([])\n",
    "ax2.set_xticklabels(['MS$_{pop}$','MS$_{clone}$','SS$_{pop}$','SS$_{clone}$'])\n",
    "ax2.set_ylim([0, 16])\n",
    "ax2.set_xlim([-0.5, 3.5])\n",
    "ax2.set_title('Phase 2', fontsize=18)\n",
    "\n",
    "d_MS3={'relMIC':[7.2, 7.2, 7.2]}\n",
    "d_SS3={'relMIC':[9.2, 15.3, 10]}\n",
    "clones_MS_phase3=pandas.DataFrame(data=d_MS3, dtype='float64')\n",
    "clones_SS_phase3=pandas.DataFrame(data=d_SS3, dtype= 'float64')\n",
    "\n",
    "d_mic3=pandas.concat([df_MS_phase3['relMIC'], clones_MS_phase3, df_SS_phase3['relMIC'], clones_SS_phase3], ignore_index=True, axis=1)\n",
    "df_mic3 = pandas.DataFrame(data=d_mic3, dtype='float64')\n",
    "sns.stripplot(data=df_mic3, palette=['#1F77B1', '#A1D1E7', '#FD8002', '#FEBD70'], ax=ax3, size=8,jitter=0.25)\n",
    "\n",
    "ax3.set_yticks([])\n",
    "ax3.set_xticklabels(['MS$_{pop}$','MS$_{clone}$','SS$_{pop}$','SS$_{clone}$'])\n",
    "ax3.set_ylim([0, 16])\n",
    "ax3.set_xlim([-0.5, 3.5])\n",
    "ax3.set_title('Phase 3', fontsize=18)\n",
    "\n",
    "\n",
    "plt.tight_layout()\n",
    "\n",
    "\n",
    "plt.savefig('./figures/FigureS5.pdf')\n",
    "\n",
    "plt.show()\n"
   ]
  },
  {
   "cell_type": "markdown",
   "metadata": {
    "id": "H93GgEoR35bc"
   },
   "source": [
    "## Growth rate assays"
   ]
  },
  {
   "cell_type": "code",
   "execution_count": null,
   "metadata": {
    "id": "wLkGhfsC35bc",
    "outputId": "d4ee4369-c0d3-4ff6-ca38-31f014680a9a"
   },
   "outputs": [],
   "source": [
    "df_rmax = pandas.read_csv('../../data/GrowthRates_10MIC.csv')\n",
    "\n",
    "SS_rmax=(df_rmax[df_rmax['ID'].str.startswith('SS_')])\n",
    "MS_rmax=(df_rmax[df_rmax['ID'].str.startswith('MS_')])\n",
    "\n",
    "stat_rmax, p_rmax = stats.ttest_ind(MS_rmax['max df'], SS_rmax['max df'], equal_var = False)\n",
    "print('*** Phase 1\\nStatistics=%.3f, p=%.3f' % (stat_rmax, p_rmax))\n",
    "if p_rmax > 0.05:\n",
    "    print('[SS] two-tailed P value: difference in rmax (Phase 1) between MS and SS is not statistically significant')\n",
    "else:\n",
    "    print('[SS] two-tailed P value: difference in rmax (Phase 1) between MS and SS is statistically significant')\n"
   ]
  },
  {
   "cell_type": "code",
   "execution_count": null,
   "metadata": {
    "id": "al0GYhnr35bc"
   },
   "outputs": [],
   "source": []
  },
  {
   "cell_type": "code",
   "execution_count": null,
   "metadata": {
    "id": "sP7zofIC35bc",
    "outputId": "a406a900-8c83-4d58-e881-0803b5862180"
   },
   "outputs": [],
   "source": [
    "labels = ['MS', 'SS']\n",
    "fig, ax1 = plt.subplots(nrows=1, ncols=1, figsize=(6,4))\n",
    "\n",
    "d_rmax = {'MS':MS_rmax['max df'],'SS':SS_rmax['max df']}\n",
    "df_rmax = pandas.DataFrame(d_rmax)\n",
    "sns.stripplot(data=df_rmax, ax=ax1)\n",
    "\n",
    "ax1.set_ylabel('Max growth rate', fontsize=18)\n",
    "ax1.set_ylim([0., 30])\n",
    "\n",
    "\n",
    "plt.savefig('./figures/FigureS3.pdf')\n",
    "plt.show()\n",
    "\n"
   ]
  },
  {
   "cell_type": "code",
   "execution_count": null,
   "metadata": {
    "id": "aaCHFkCl35bc",
    "outputId": "fb96460f-5d09-46ef-efe2-0c5e35b6f1b5"
   },
   "outputs": [],
   "source": [
    "df_AMP = pandas.read_csv('../../data/AMP_transfer_reps.csv')\n",
    "\n",
    "colors = ['#648FFE', '#DC267E', '#004D3F', '#FFAF00']\n",
    "\n",
    "fig, ax1 = plt.subplots(nrows=1, ncols=1, figsize=(6,4))\n",
    "ax1.plot(df_AMP['Day'], df_AMP['MS_R1'], color=colors[0])\n",
    "ax1.plot(df_AMP['Day'], df_AMP['MS_R2'], color=colors[1])\n",
    "ax1.plot(df_AMP['Day'], df_AMP['MS_R3'], color=colors[2])\n",
    "ax1.plot(df_AMP['Day'], df_AMP['MS_R4'], color=colors[3])\n",
    "\n",
    "ax1.set_title('Mild selection', fontsize=18)\n",
    "ax1.set_xlabel('Time (Days)', fontsize=18)\n",
    "ax1.set_xlim([0, 48])\n",
    "ax1.set_ylabel('AMP ($\\mu g/mL$)\\nof transferred population', fontsize=18);\n"
   ]
  },
  {
   "cell_type": "code",
   "execution_count": null,
   "metadata": {
    "id": "T0m-MbOx35bd",
    "outputId": "081bfe8d-6670-4dcd-abc6-72c558e9f4ac"
   },
   "outputs": [],
   "source": [
    "\n",
    "colors = ['#648FFE', '#DC267E', '#004D3F', '#FFAF00']\n",
    "\n",
    "fig, ax1 = plt.subplots(nrows=1, ncols=1, figsize=(6,4))\n",
    "ax1.plot(df_AMP['Day'], df_AMP['SS_R1'], color=colors[0])\n",
    "ax1.plot(df_AMP['Day'], df_AMP['SS_R2'], color=colors[1])\n",
    "ax1.plot(df_AMP['Day'], df_AMP['SS_R3'], color=colors[2])\n",
    "ax1.plot(df_AMP['Day'], df_AMP['SS_R4'], color=colors[3])\n",
    "\n",
    "ax1.set_title('Strong selection', fontsize=18)\n",
    "ax1.set_xlabel('Time (Days)', fontsize=18)\n",
    "ax1.set_xlim([0, 48])\n",
    "ax1.set_ylabel('AMP ($\\mu g/mL$)\\nof transferred population', fontsize=18);"
   ]
  },
  {
   "cell_type": "markdown",
   "metadata": {
    "id": "AyrgT0Hx4DTc"
   },
   "source": [
    "# IS-mediated mutations"
   ]
  },
  {
   "cell_type": "code",
   "execution_count": null,
   "metadata": {
    "colab": {
     "base_uri": "https://localhost:8080/",
     "height": 389
    },
    "executionInfo": {
     "elapsed": 204,
     "status": "error",
     "timestamp": 1660087468724,
     "user": {
      "displayName": "Rafael Pena-Miller",
      "userId": "14693093927180503335"
     },
     "user_tz": 300
    },
    "id": "5F2Pttvq4P3n",
    "outputId": "aaac4daa-654e-4a36-ceea-91afde29e505"
   },
   "outputs": [],
   "source": [
    "\n",
    "\n",
    "plt.rcParams['figure.figsize']=(6,4)\n",
    "plt.rcParams['xtick.labelsize']=18\n",
    "plt.rcParams['ytick.labelsize']=18\n",
    "plt.rcParams[\"figure.figsize\"] = [6, 4]\n",
    "plt.rcParams[\"figure.autolayout\"] = True\n",
    "columns = [\"Selection\",\"MutType\",\"Mutation\",\"Gene\",\"Phase1\",\"Phase2\",\"Phase3\",\"Rep\"]\n",
    "\n",
    "df = pandas.read_csv(\"../../data/IS_mutations.csv\", usecols=columns)\n",
    "print(\"Contents in csv file:\\n\", df.iloc[:,3:7])\n",
    "\n",
    "fig, ax1 = plt.subplots(nrows=1, ncols=1, figsize=(6,4))\n",
    "\n",
    "colors = ['#A1D1E7','#A1D1E7','#A1D1E7','#A1D1E7','#A1D1E7', '#FEBD70','#FEBD70','#FEBD70','#FEBD70','#FEBD70']\n",
    "for idf in range(0,len(df)):\n",
    "    ax1.plot([1,2,3], df.iloc[idf,4:7], 'o:',color=colors[idf])\n",
    "    \n",
    "ax1.set_xlabel('Phase', fontsize=18)\n",
    "ax1.set_ylabel('Mutation Frequency (%)', fontsize=18)\n",
    "ax1.set_xticks([1,2,3])\n",
    "\n",
    "\n",
    "plt.savefig('./figures/FigureS7.pdf')\n",
    "\n",
    "plt.show()\n"
   ]
  },
  {
   "cell_type": "code",
   "execution_count": null,
   "metadata": {
    "id": "U6E7JO4iPFMP"
   },
   "outputs": [],
   "source": []
  }
 ],
 "metadata": {
  "anaconda-cloud": {},
  "colab": {
   "collapsed_sections": [
    "zTbdw8PbCvwb",
    "sIb14lrFCvwc",
    "Otrv2I55Cvwd",
    "I9dGnkdVCvwi",
    "xM9MU2Si35bY",
    "vNIURKWX35ba",
    "H93GgEoR35bc"
   ],
   "name": "runEvoAmp.ipynb",
   "provenance": []
  },
  "kernelspec": {
   "display_name": "Python 3",
   "language": "python",
   "name": "python3"
  },
  "language_info": {
   "codemirror_mode": {
    "name": "ipython",
    "version": 3
   },
   "file_extension": ".py",
   "mimetype": "text/x-python",
   "name": "python",
   "nbconvert_exporter": "python",
   "pygments_lexer": "ipython3",
   "version": "3.7.6"
  }
 },
 "nbformat": 4,
 "nbformat_minor": 1
}
