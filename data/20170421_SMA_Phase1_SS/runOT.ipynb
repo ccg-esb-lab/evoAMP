{
 "cells": [
  {
   "cell_type": "code",
   "execution_count": 10,
   "metadata": {
    "collapsed": true
   },
   "outputs": [],
   "source": [
    "import sys, os, random, time, shutil\n",
    "sys.path.insert(0, '../../src/')\n",
    "from OTScriptGenerator import *\n",
    "from DataLoader import *\n",
    "from DataAnalysis import *\n",
    "\n",
    "params=dict()"
   ]
  },
  {
   "cell_type": "markdown",
   "metadata": {},
   "source": [
    "## User-defined parameters"
   ]
  },
  {
   "cell_type": "code",
   "execution_count": 11,
   "metadata": {
    "collapsed": true
   },
   "outputs": [],
   "source": [
    "#OT LAYOUT FILES:\n",
    "\n",
    "#params['fileLayoutName']='layouts/EvoAMP_layout_1plate.txt'\n",
    "#params['fileLayoutName']='layouts/EvoAmp_Layout_2platesD1-D9.txt'\n",
    "params['fileLayoutName']='layouts/EvoAMP_layout_4plates_D1D9.txt'\n",
    "\n",
    "params['fileDictName']='layouts/EvoAMP_key_dict.txt'\n",
    "params['fileTroughName']='layouts/EvoAmp_trough.txt'\n",
    "params['fileInoculationName']='layouts/EvoAMP_inoculation_layout.txt'\n",
    "params['fileRobotName']='OT_scripts/D1-D9_4Plates.py'  #Outfile: robot instructions\n",
    "\n",
    "params['pipette_channels']=1\n",
    "params['pipette_axis']='b'\n",
    "params['trough_type']='tube-rack-15_50ml'  #'96-deep-well'\n",
    "\n",
    "params['max_vol_tip']=180\n",
    "params['min_vol_tip']=18\n",
    "params['dispense_top']=-2 #Distance from top (in mm)\n",
    "params['min_vol_trough']=5000\n",
    "\n",
    "params['pos_plates']=['B1','B2','C1','C2'] #4 plates\n",
    "#params['pos_plates']=['B1','C1']  #2 plates\n",
    "#params['pos_plates']=['C2']  #1 plate\n",
    "params['pos_trough']='A1'\n",
    "params['pos_tiprack']='A2'\n",
    "params['pos_trash']='D2'\n",
    "\n",
    "params['randomize']=False\n",
    "params['verbose']=False\n",
    "params['exportOTScript']=True\n"
   ]
  },
  {
   "cell_type": "markdown",
   "metadata": {},
   "source": [
    "## Generate OT-script"
   ]
  },
  {
   "cell_type": "code",
   "execution_count": 12,
   "metadata": {},
   "outputs": [
    {
     "name": "stdout",
     "output_type": "stream",
     "text": [
      "\n",
      "> Exporting OT_scripts/D1-D9_4Plates_20180302131053.py\n"
     ]
    }
   ],
   "source": [
    "OTscript=generateOTScript(params)"
   ]
  },
  {
   "cell_type": "code",
   "execution_count": null,
   "metadata": {
    "collapsed": true
   },
   "outputs": [],
   "source": []
  }
 ],
 "metadata": {
  "kernelspec": {
   "display_name": "Python 3",
   "language": "python",
   "name": "python3"
  },
  "language_info": {
   "codemirror_mode": {
    "name": "ipython",
    "version": 3
   },
   "file_extension": ".py",
   "mimetype": "text/x-python",
   "name": "python",
   "nbconvert_exporter": "python",
   "pygments_lexer": "ipython3",
   "version": "3.6.3"
  }
 },
 "nbformat": 4,
 "nbformat_minor": 1
}
