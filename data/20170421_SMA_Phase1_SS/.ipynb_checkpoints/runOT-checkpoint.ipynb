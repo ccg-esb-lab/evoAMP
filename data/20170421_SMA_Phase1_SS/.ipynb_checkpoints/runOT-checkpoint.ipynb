{
 "cells": [
  {
   "cell_type": "code",
   "execution_count": 1,
   "metadata": {
    "collapsed": true
   },
   "outputs": [],
   "source": [
    "import sys, os, random, time, shutil\n",
    "sys.path.insert(0, '../../src/')\n",
    "from OTScriptGenerator import *\n",
    "from DataLoader import *\n",
    "from DataAnalysis import *\n",
    "\n",
    "params=dict()"
   ]
  },
  {
   "cell_type": "markdown",
   "metadata": {},
   "source": [
    "## User-defined parameters"
   ]
  },
  {
   "cell_type": "code",
   "execution_count": 1,
   "metadata": {},
   "outputs": [
    {
     "ename": "NameError",
     "evalue": "name 'params' is not defined",
     "output_type": "error",
     "traceback": [
      "\u001b[0;31m---------------------------------------------------------------------------\u001b[0m",
      "\u001b[0;31mNameError\u001b[0m                                 Traceback (most recent call last)",
      "\u001b[0;32m<ipython-input-1-a376d351ee3b>\u001b[0m in \u001b[0;36m<module>\u001b[0;34m()\u001b[0m\n\u001b[1;32m      1\u001b[0m \u001b[0;31m#OT LAYOUT FILES:\u001b[0m\u001b[0;34m\u001b[0m\u001b[0;34m\u001b[0m\u001b[0m\n\u001b[1;32m      2\u001b[0m \u001b[0;34m\u001b[0m\u001b[0m\n\u001b[0;32m----> 3\u001b[0;31m \u001b[0mparams\u001b[0m\u001b[0;34m[\u001b[0m\u001b[0;34m'fileLayoutName'\u001b[0m\u001b[0;34m]\u001b[0m\u001b[0;34m=\u001b[0m\u001b[0;34m'layouts/EvoAMP_layout_1plate.txt'\u001b[0m\u001b[0;34m\u001b[0m\u001b[0m\n\u001b[0m\u001b[1;32m      4\u001b[0m \u001b[0;31m#params['fileLayoutName']='layouts/EvoAMP_layout_2plates.txt'\u001b[0m\u001b[0;34m\u001b[0m\u001b[0;34m\u001b[0m\u001b[0m\n\u001b[1;32m      5\u001b[0m \u001b[0;31m#params['fileLayoutName']='layouts/EvoAMP_layout_4plates.txt'\u001b[0m\u001b[0;34m\u001b[0m\u001b[0;34m\u001b[0m\u001b[0m\n",
      "\u001b[0;31mNameError\u001b[0m: name 'params' is not defined"
     ]
    }
   ],
   "source": [
    "#OT LAYOUT FILES:\n",
    "\n",
    "params['fileLayoutName']='layouts/EvoAMP_layout_1plate.txt'\n",
    "#params['fileLayoutName']='layouts/EvoAMP_layout_2plates.txt'\n",
    "#params['fileLayoutName']='layouts/EvoAMP_layout_4plates.txt'\n",
    "\n",
    "params['fileDictName']='layouts/EvoAMP_key_dict.txt'\n",
    "params['fileTroughName']='layouts/EvoAMP_trough_layout.txt'\n",
    "params['fileInoculationName']='layouts/EvoAMP_inoculation_layout.txt'\n",
    "params['fileRobotName']='OT_scripts/EvoAMP_script.py'  #Outfile: robot instructions\n",
    "\n",
    "params['pipette_channels']=1\n",
    "params['pipette_axis']='b'\n",
    "params['trough_type']='tube-rack-15_50ml'  #'96-deep-well'\n",
    "\n",
    "params['max_vol_tip']=180\n",
    "params['min_vol_tip']=18\n",
    "params['dispense_top']=-2 #Distance from top (in mm)\n",
    "params['min_vol_trough']=5000\n",
    "\n",
    "#params['pos_plates']=['C1','C2','D1','D2'] #4 plates\n",
    "#params['pos_plates']=['C2','D2']  #2 plates\n",
    "params['pos_plates']=['C2']  #1 plate\n",
    "params['pos_trough']='B2'\n",
    "params['pos_tiprack']='A2'\n",
    "params['pos_trash']='A1'\n",
    "\n",
    "params['randomize']=False\n",
    "params['verbose']=False\n",
    "params['exportOTScript']=False\n"
   ]
  },
  {
   "cell_type": "markdown",
   "metadata": {},
   "source": [
    "## Generate OT-script"
   ]
  },
  {
   "cell_type": "code",
   "execution_count": 3,
   "metadata": {},
   "outputs": [
    {
     "name": "stdout",
     "output_type": "stream",
     "text": [
      "\n",
      "> Exporting OT_scripts/EvoAMP_script_20170216163210.py\n"
     ]
    }
   ],
   "source": [
    "OTscript=generateOTScript(params)"
   ]
  },
  {
   "cell_type": "code",
   "execution_count": null,
   "metadata": {
    "collapsed": true
   },
   "outputs": [],
   "source": []
  }
 ],
 "metadata": {
  "kernelspec": {
   "display_name": "Python 3",
   "language": "python",
   "name": "python3"
  },
  "language_info": {
   "codemirror_mode": {
    "name": "ipython",
    "version": 3
   },
   "file_extension": ".py",
   "mimetype": "text/x-python",
   "name": "python",
   "nbconvert_exporter": "python",
   "pygments_lexer": "ipython3",
   "version": "3.6.3"
  }
 },
 "nbformat": 4,
 "nbformat_minor": 1
}
